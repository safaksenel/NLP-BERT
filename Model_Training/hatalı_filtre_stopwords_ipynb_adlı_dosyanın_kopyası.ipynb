{
  "nbformat": 4,
  "nbformat_minor": 0,
  "metadata": {
    "colab": {
      "provenance": []
    },
    "kernelspec": {
      "name": "python3",
      "display_name": "Python 3"
    },
    "language_info": {
      "name": "python"
    }
  },
  "cells": [
    {
      "cell_type": "code",
      "execution_count": null,
      "metadata": {
        "colab": {
          "base_uri": "https://localhost:8080/"
        },
        "id": "lz4JUzz56EUl",
        "outputId": "7aa36bec-e5b5-429a-85ab-460ad7133065"
      },
      "outputs": [
        {
          "output_type": "stream",
          "name": "stdout",
          "text": [
            "Mounted at /content/drive\n"
          ]
        }
      ],
      "source": [
        "from google.colab import drive\n",
        "drive.mount('/content/drive', force_remount=True)\n"
      ]
    },
    {
      "cell_type": "code",
      "source": [
        "import os\n",
        "\n",
        "# 'problem' klasörünün içeriğini listeleyelim\n",
        "os.listdir('/content/drive/MyDrive/hata/HATALI_REASON/HATALI FAZLA OLAN DATALARIN MODELLERİ/ÜRÜN GEÇ/WORD COUNT')\n"
      ],
      "metadata": {
        "colab": {
          "base_uri": "https://localhost:8080/"
        },
        "id": "Q8YFcLyS6sL3",
        "outputId": "eaa5e081-1990-4d19-9a61-1d414d7fb47a"
      },
      "execution_count": null,
      "outputs": [
        {
          "output_type": "execute_result",
          "data": {
            "text/plain": [
              "['hatalı_filtre_stopwords.ipynb adlı dosyanın kopyası',\n",
              " 'URUNGECHATA.xlsx',\n",
              " 'urun_gec_hata.xlsx',\n",
              " 'urun_gec_doğru.xlsx']"
            ]
          },
          "metadata": {},
          "execution_count": 33
        }
      ]
    },
    {
      "cell_type": "code",
      "source": [
        "import pandas as pd"
      ],
      "metadata": {
        "id": "TgSP4f6t6xKX"
      },
      "execution_count": null,
      "outputs": []
    },
    {
      "cell_type": "code",
      "source": [
        "klasor_adi= ['URUNKALİTE',\n",
        " 'KUTU',\n",
        " 'KAMPANYA',\n",
        " 'KASA',\n",
        " 'KARGO',\n",
        " 'MAĞAZA','ÖDEME SORUNU','MAGAZA DÜZENİ','ÜRÜN ÇEŞİDİ AZ']\n",
        "\n",
        "reason_adi=klasor_adi[-1]\n",
        "reason_adi"
      ],
      "metadata": {
        "colab": {
          "base_uri": "https://localhost:8080/",
          "height": 35
        },
        "id": "rw-eAJP2604v",
        "outputId": "806362bd-b543-49ae-bf16-4bbe1d4e9a7f"
      },
      "execution_count": null,
      "outputs": [
        {
          "output_type": "execute_result",
          "data": {
            "text/plain": [
              "'ÜRÜN ÇEŞİDİ AZ'"
            ],
            "application/vnd.google.colaboratory.intrinsic+json": {
              "type": "string"
            }
          },
          "metadata": {},
          "execution_count": 35
        }
      ]
    },
    {
      "cell_type": "code",
      "source": [
        "file_path=f'/content/drive/MyDrive/hata/HATALI_REASON/HATALI FAZLA OLAN DATALARIN MODELLERİ/ÜRÜN GEÇ/WORD COUNT/URUNGECHATA.xlsx'\n",
        "df = pd.read_excel(file_path)\n"
      ],
      "metadata": {
        "id": "qJ-Gju0PWsos"
      },
      "execution_count": null,
      "outputs": []
    },
    {
      "cell_type": "code",
      "source": [
        "file_path=f'/content/drive/MyDrive/hata/HATALI_REASON/HATALI FAZLA OLAN DATALARIN MODELLERİ/ÜRÜN GEÇ/WORD COUNT/urun_gec_doğru.xlsx'\n",
        "df_dogru = pd.read_excel(file_path)\n"
      ],
      "metadata": {
        "id": "l8J3xYJh6tCV"
      },
      "execution_count": null,
      "outputs": []
    },
    {
      "cell_type": "code",
      "source": [
        "file_path=f'/content/drive/MyDrive/hata/HATALI_REASON/HATALI FAZLA OLAN DATALARIN MODELLERİ/ÜRÜN GEÇ/WORD COUNT/urun_gec_hata.xlsx'\n",
        "df_hata = pd.read_excel(file_path)\n"
      ],
      "metadata": {
        "id": "MxlaC3gw7oRt"
      },
      "execution_count": null,
      "outputs": []
    },
    {
      "cell_type": "code",
      "source": [
        "!pip install TurkishStemmer"
      ],
      "metadata": {
        "colab": {
          "base_uri": "https://localhost:8080/"
        },
        "id": "2zFuSVV5P38n",
        "outputId": "a38ddc3f-3d97-4c03-966f-b34dbc3f7de9"
      },
      "execution_count": null,
      "outputs": [
        {
          "output_type": "stream",
          "name": "stdout",
          "text": [
            "Requirement already satisfied: TurkishStemmer in /usr/local/lib/python3.11/dist-packages (1.3)\n"
          ]
        }
      ]
    },
    {
      "cell_type": "code",
      "source": [
        "\n",
        "import nltk\n",
        "import pandas as pd\n",
        "import re\n",
        "from nltk.corpus import stopwords\n",
        "from TurkishStemmer import TurkishStemmer\n",
        "\n",
        "# Gerekli verileri indir\n",
        "nltk.download('stopwords')\n",
        "\n",
        "# Stopwords listesi\n",
        "turkish_stopwords = set(stopwords.words('turkish'))\n",
        "#ozel_kelimeler = ['bir', '2', 'i', 'tl', 'yok', '1', 'dedi', 'ben']\n",
        "#turkish_stopwords.update(ozel_kelimeler)\n",
        "\n",
        "# Türkçe kökleyici\n",
        "stemmer = TurkishStemmer()\n",
        "\n",
        "# Temizleme + kökleme fonksiyonu\n",
        "def temizle_ve_kokle(yorum):\n",
        "    if pd.isna(yorum):\n",
        "        return \"\"\n",
        "    kelimeler = re.findall(r'\\b\\w+\\b', yorum.lower())\n",
        "    temiz_kelimeler = [\n",
        "        stemmer.stem(kelime) for kelime in kelimeler if kelime not in turkish_stopwords\n",
        "    ]\n",
        "    return \" \".join(temiz_kelimeler)\n",
        "\n",
        "# Yeni sütun oluştur\n",
        "df_dogru[\"Temiz_Kok_Yorum\"] = df_dogru[\"Yorum\"].apply(temizle_ve_kokle)\n",
        "\n",
        "# İlk 5 sonucu göster\n",
        "df_dogru[[\"Yorum\", \"Temiz_Kok_Yorum\"]].head()\n"
      ],
      "metadata": {
        "colab": {
          "base_uri": "https://localhost:8080/",
          "height": 241
        },
        "id": "lNLUbYaAFlav",
        "outputId": "d93e69be-1d4d-4751-8291-289190aadc75"
      },
      "execution_count": null,
      "outputs": [
        {
          "output_type": "stream",
          "name": "stderr",
          "text": [
            "[nltk_data] Downloading package stopwords to /root/nltk_data...\n",
            "[nltk_data]   Package stopwords is already up-to-date!\n"
          ]
        },
        {
          "output_type": "execute_result",
          "data": {
            "text/plain": [
              "                                               Yorum  \\\n",
              "0               Çanta almış yanlış ürün gönderilmiş.   \n",
              "1  Kargom teslim edilmesi gereken tarihte henüz k...   \n",
              "2  Terlik almış görseldekinden farklı ürün gelmiş...   \n",
              "3  2 haziranda 2 ürün sipariş ettim kargolanması ...   \n",
              "4  Ayakkabı aldık. Kargom yırtık geldi.  Kutu ve ...   \n",
              "\n",
              "                                     Temiz_Kok_Yorum  \n",
              "0                      çanta al yanlış ürün gönderil  \n",
              "1  kargom tesl edilme gere tarih henüz kargo bil ...  \n",
              "2  terlik al görseldek fark ürün gel kargo geç ge...  \n",
              "3  2 haziran 2 ürün sipariş ett kargolanma uzun s...  \n",
              "4  ayakkabı al kargom yır gelt kut poşet yır gelt...  "
            ],
            "text/html": [
              "\n",
              "  <div id=\"df-9562f007-d47e-4413-ab85-8f7d43a791de\" class=\"colab-df-container\">\n",
              "    <div>\n",
              "<style scoped>\n",
              "    .dataframe tbody tr th:only-of-type {\n",
              "        vertical-align: middle;\n",
              "    }\n",
              "\n",
              "    .dataframe tbody tr th {\n",
              "        vertical-align: top;\n",
              "    }\n",
              "\n",
              "    .dataframe thead th {\n",
              "        text-align: right;\n",
              "    }\n",
              "</style>\n",
              "<table border=\"1\" class=\"dataframe\">\n",
              "  <thead>\n",
              "    <tr style=\"text-align: right;\">\n",
              "      <th></th>\n",
              "      <th>Yorum</th>\n",
              "      <th>Temiz_Kok_Yorum</th>\n",
              "    </tr>\n",
              "  </thead>\n",
              "  <tbody>\n",
              "    <tr>\n",
              "      <th>0</th>\n",
              "      <td>Çanta almış yanlış ürün gönderilmiş.</td>\n",
              "      <td>çanta al yanlış ürün gönderil</td>\n",
              "    </tr>\n",
              "    <tr>\n",
              "      <th>1</th>\n",
              "      <td>Kargom teslim edilmesi gereken tarihte henüz k...</td>\n",
              "      <td>kargom tesl edilme gere tarih henüz kargo bil ...</td>\n",
              "    </tr>\n",
              "    <tr>\n",
              "      <th>2</th>\n",
              "      <td>Terlik almış görseldekinden farklı ürün gelmiş...</td>\n",
              "      <td>terlik al görseldek fark ürün gel kargo geç ge...</td>\n",
              "    </tr>\n",
              "    <tr>\n",
              "      <th>3</th>\n",
              "      <td>2 haziranda 2 ürün sipariş ettim kargolanması ...</td>\n",
              "      <td>2 haziran 2 ürün sipariş ett kargolanma uzun s...</td>\n",
              "    </tr>\n",
              "    <tr>\n",
              "      <th>4</th>\n",
              "      <td>Ayakkabı aldık. Kargom yırtık geldi.  Kutu ve ...</td>\n",
              "      <td>ayakkabı al kargom yır gelt kut poşet yır gelt...</td>\n",
              "    </tr>\n",
              "  </tbody>\n",
              "</table>\n",
              "</div>\n",
              "    <div class=\"colab-df-buttons\">\n",
              "\n",
              "  <div class=\"colab-df-container\">\n",
              "    <button class=\"colab-df-convert\" onclick=\"convertToInteractive('df-9562f007-d47e-4413-ab85-8f7d43a791de')\"\n",
              "            title=\"Convert this dataframe to an interactive table.\"\n",
              "            style=\"display:none;\">\n",
              "\n",
              "  <svg xmlns=\"http://www.w3.org/2000/svg\" height=\"24px\" viewBox=\"0 -960 960 960\">\n",
              "    <path d=\"M120-120v-720h720v720H120Zm60-500h600v-160H180v160Zm220 220h160v-160H400v160Zm0 220h160v-160H400v160ZM180-400h160v-160H180v160Zm440 0h160v-160H620v160ZM180-180h160v-160H180v160Zm440 0h160v-160H620v160Z\"/>\n",
              "  </svg>\n",
              "    </button>\n",
              "\n",
              "  <style>\n",
              "    .colab-df-container {\n",
              "      display:flex;\n",
              "      gap: 12px;\n",
              "    }\n",
              "\n",
              "    .colab-df-convert {\n",
              "      background-color: #E8F0FE;\n",
              "      border: none;\n",
              "      border-radius: 50%;\n",
              "      cursor: pointer;\n",
              "      display: none;\n",
              "      fill: #1967D2;\n",
              "      height: 32px;\n",
              "      padding: 0 0 0 0;\n",
              "      width: 32px;\n",
              "    }\n",
              "\n",
              "    .colab-df-convert:hover {\n",
              "      background-color: #E2EBFA;\n",
              "      box-shadow: 0px 1px 2px rgba(60, 64, 67, 0.3), 0px 1px 3px 1px rgba(60, 64, 67, 0.15);\n",
              "      fill: #174EA6;\n",
              "    }\n",
              "\n",
              "    .colab-df-buttons div {\n",
              "      margin-bottom: 4px;\n",
              "    }\n",
              "\n",
              "    [theme=dark] .colab-df-convert {\n",
              "      background-color: #3B4455;\n",
              "      fill: #D2E3FC;\n",
              "    }\n",
              "\n",
              "    [theme=dark] .colab-df-convert:hover {\n",
              "      background-color: #434B5C;\n",
              "      box-shadow: 0px 1px 3px 1px rgba(0, 0, 0, 0.15);\n",
              "      filter: drop-shadow(0px 1px 2px rgba(0, 0, 0, 0.3));\n",
              "      fill: #FFFFFF;\n",
              "    }\n",
              "  </style>\n",
              "\n",
              "    <script>\n",
              "      const buttonEl =\n",
              "        document.querySelector('#df-9562f007-d47e-4413-ab85-8f7d43a791de button.colab-df-convert');\n",
              "      buttonEl.style.display =\n",
              "        google.colab.kernel.accessAllowed ? 'block' : 'none';\n",
              "\n",
              "      async function convertToInteractive(key) {\n",
              "        const element = document.querySelector('#df-9562f007-d47e-4413-ab85-8f7d43a791de');\n",
              "        const dataTable =\n",
              "          await google.colab.kernel.invokeFunction('convertToInteractive',\n",
              "                                                    [key], {});\n",
              "        if (!dataTable) return;\n",
              "\n",
              "        const docLinkHtml = 'Like what you see? Visit the ' +\n",
              "          '<a target=\"_blank\" href=https://colab.research.google.com/notebooks/data_table.ipynb>data table notebook</a>'\n",
              "          + ' to learn more about interactive tables.';\n",
              "        element.innerHTML = '';\n",
              "        dataTable['output_type'] = 'display_data';\n",
              "        await google.colab.output.renderOutput(dataTable, element);\n",
              "        const docLink = document.createElement('div');\n",
              "        docLink.innerHTML = docLinkHtml;\n",
              "        element.appendChild(docLink);\n",
              "      }\n",
              "    </script>\n",
              "  </div>\n",
              "\n",
              "\n",
              "    <div id=\"df-32fbae4d-11a4-44fb-aa80-e22b51d16abf\">\n",
              "      <button class=\"colab-df-quickchart\" onclick=\"quickchart('df-32fbae4d-11a4-44fb-aa80-e22b51d16abf')\"\n",
              "                title=\"Suggest charts\"\n",
              "                style=\"display:none;\">\n",
              "\n",
              "<svg xmlns=\"http://www.w3.org/2000/svg\" height=\"24px\"viewBox=\"0 0 24 24\"\n",
              "     width=\"24px\">\n",
              "    <g>\n",
              "        <path d=\"M19 3H5c-1.1 0-2 .9-2 2v14c0 1.1.9 2 2 2h14c1.1 0 2-.9 2-2V5c0-1.1-.9-2-2-2zM9 17H7v-7h2v7zm4 0h-2V7h2v10zm4 0h-2v-4h2v4z\"/>\n",
              "    </g>\n",
              "</svg>\n",
              "      </button>\n",
              "\n",
              "<style>\n",
              "  .colab-df-quickchart {\n",
              "      --bg-color: #E8F0FE;\n",
              "      --fill-color: #1967D2;\n",
              "      --hover-bg-color: #E2EBFA;\n",
              "      --hover-fill-color: #174EA6;\n",
              "      --disabled-fill-color: #AAA;\n",
              "      --disabled-bg-color: #DDD;\n",
              "  }\n",
              "\n",
              "  [theme=dark] .colab-df-quickchart {\n",
              "      --bg-color: #3B4455;\n",
              "      --fill-color: #D2E3FC;\n",
              "      --hover-bg-color: #434B5C;\n",
              "      --hover-fill-color: #FFFFFF;\n",
              "      --disabled-bg-color: #3B4455;\n",
              "      --disabled-fill-color: #666;\n",
              "  }\n",
              "\n",
              "  .colab-df-quickchart {\n",
              "    background-color: var(--bg-color);\n",
              "    border: none;\n",
              "    border-radius: 50%;\n",
              "    cursor: pointer;\n",
              "    display: none;\n",
              "    fill: var(--fill-color);\n",
              "    height: 32px;\n",
              "    padding: 0;\n",
              "    width: 32px;\n",
              "  }\n",
              "\n",
              "  .colab-df-quickchart:hover {\n",
              "    background-color: var(--hover-bg-color);\n",
              "    box-shadow: 0 1px 2px rgba(60, 64, 67, 0.3), 0 1px 3px 1px rgba(60, 64, 67, 0.15);\n",
              "    fill: var(--button-hover-fill-color);\n",
              "  }\n",
              "\n",
              "  .colab-df-quickchart-complete:disabled,\n",
              "  .colab-df-quickchart-complete:disabled:hover {\n",
              "    background-color: var(--disabled-bg-color);\n",
              "    fill: var(--disabled-fill-color);\n",
              "    box-shadow: none;\n",
              "  }\n",
              "\n",
              "  .colab-df-spinner {\n",
              "    border: 2px solid var(--fill-color);\n",
              "    border-color: transparent;\n",
              "    border-bottom-color: var(--fill-color);\n",
              "    animation:\n",
              "      spin 1s steps(1) infinite;\n",
              "  }\n",
              "\n",
              "  @keyframes spin {\n",
              "    0% {\n",
              "      border-color: transparent;\n",
              "      border-bottom-color: var(--fill-color);\n",
              "      border-left-color: var(--fill-color);\n",
              "    }\n",
              "    20% {\n",
              "      border-color: transparent;\n",
              "      border-left-color: var(--fill-color);\n",
              "      border-top-color: var(--fill-color);\n",
              "    }\n",
              "    30% {\n",
              "      border-color: transparent;\n",
              "      border-left-color: var(--fill-color);\n",
              "      border-top-color: var(--fill-color);\n",
              "      border-right-color: var(--fill-color);\n",
              "    }\n",
              "    40% {\n",
              "      border-color: transparent;\n",
              "      border-right-color: var(--fill-color);\n",
              "      border-top-color: var(--fill-color);\n",
              "    }\n",
              "    60% {\n",
              "      border-color: transparent;\n",
              "      border-right-color: var(--fill-color);\n",
              "    }\n",
              "    80% {\n",
              "      border-color: transparent;\n",
              "      border-right-color: var(--fill-color);\n",
              "      border-bottom-color: var(--fill-color);\n",
              "    }\n",
              "    90% {\n",
              "      border-color: transparent;\n",
              "      border-bottom-color: var(--fill-color);\n",
              "    }\n",
              "  }\n",
              "</style>\n",
              "\n",
              "      <script>\n",
              "        async function quickchart(key) {\n",
              "          const quickchartButtonEl =\n",
              "            document.querySelector('#' + key + ' button');\n",
              "          quickchartButtonEl.disabled = true;  // To prevent multiple clicks.\n",
              "          quickchartButtonEl.classList.add('colab-df-spinner');\n",
              "          try {\n",
              "            const charts = await google.colab.kernel.invokeFunction(\n",
              "                'suggestCharts', [key], {});\n",
              "          } catch (error) {\n",
              "            console.error('Error during call to suggestCharts:', error);\n",
              "          }\n",
              "          quickchartButtonEl.classList.remove('colab-df-spinner');\n",
              "          quickchartButtonEl.classList.add('colab-df-quickchart-complete');\n",
              "        }\n",
              "        (() => {\n",
              "          let quickchartButtonEl =\n",
              "            document.querySelector('#df-32fbae4d-11a4-44fb-aa80-e22b51d16abf button');\n",
              "          quickchartButtonEl.style.display =\n",
              "            google.colab.kernel.accessAllowed ? 'block' : 'none';\n",
              "        })();\n",
              "      </script>\n",
              "    </div>\n",
              "\n",
              "    </div>\n",
              "  </div>\n"
            ],
            "application/vnd.google.colaboratory.intrinsic+json": {
              "type": "dataframe",
              "summary": "{\n  \"name\": \"df_dogru[[\\\"Yorum\\\", \\\"Temiz_Kok_Yorum\\\"]]\",\n  \"rows\": 5,\n  \"fields\": [\n    {\n      \"column\": \"Yorum\",\n      \"properties\": {\n        \"dtype\": \"string\",\n        \"num_unique_values\": 5,\n        \"samples\": [\n          \"Kargom teslim edilmesi gereken tarihte hen\\u00fcz kargoya bile verilmemi\\u015fti.\",\n          \"Ayakkab\\u0131 ald\\u0131k. Kargom y\\u0131rt\\u0131k geldi.  Kutu ve po\\u015fetler y\\u0131rt\\u0131k geldi. ho\\u015f bir deneyim oldu.  Aras kargo pi\\u015fmanl\\u0131k. \",\n          \"Terlik alm\\u0131\\u015f g\\u00f6rseldekinden farkl\\u0131 \\u00fcr\\u00fcn gelmi\\u015f.  Kargo \\u00e7ok ge\\u00e7 geldi.  Kargoya verilme s\\u00fcrecinden sonra kargolanma s\\u00fcresi uzad\\u0131. \"\n        ],\n        \"semantic_type\": \"\",\n        \"description\": \"\"\n      }\n    },\n    {\n      \"column\": \"Temiz_Kok_Yorum\",\n      \"properties\": {\n        \"dtype\": \"string\",\n        \"num_unique_values\": 5,\n        \"samples\": [\n          \"kargom tesl edilme gere tarih hen\\u00fcz kargo bil verilmemi\\u015f\",\n          \"ayakkab\\u0131 al kargom y\\u0131r gelt kut po\\u015fet y\\u0131r gelt ho\\u015f bir dene olt aras kargo pi\\u015fmanl\\u0131k\",\n          \"terlik al g\\u00f6rseldek fark \\u00fcr\\u00fcn gel kargo ge\\u00e7 gelt kargo veril s\\u00fcre\\u00e7 sonr kargolan s\\u00fcre uzat\"\n        ],\n        \"semantic_type\": \"\",\n        \"description\": \"\"\n      }\n    }\n  ]\n}"
            }
          },
          "metadata": {},
          "execution_count": 41
        }
      ]
    },
    {
      "cell_type": "code",
      "source": [
        "df[\"Temiz_Kok_Yorum\"] = df[\"Yorum\"].apply(temizle_ve_kokle)\n",
        "\n",
        "# İlk 5 sonucu göster\n",
        "df[[\"Yorum\", \"Temiz_Kok_Yorum\"]].head()\n"
      ],
      "metadata": {
        "colab": {
          "base_uri": "https://localhost:8080/",
          "height": 206
        },
        "id": "8eGR3RVGXivj",
        "outputId": "47339953-86e0-4ff7-e71c-4ee4a0d4164e"
      },
      "execution_count": null,
      "outputs": [
        {
          "output_type": "execute_result",
          "data": {
            "text/plain": [
              "                                               Yorum  \\\n",
              "0  Ziraat bankasının 2500 tl üzerine 250 tl puan ...   \n",
              "1  Yaptığım hediye çekiyle maalesef istediğim ürü...   \n",
              "2  Yapmis oldugunuz kampanyalari düzgün sekilde a...   \n",
              "3  Yapı Kredi kartımın puanını yüzde onunu alıyor...   \n",
              "4  Yaklaşık 3 saat zaman ayırdı toplam 10 ad ayak...   \n",
              "\n",
              "                                     Temiz_Kok_Yorum  \n",
              "0  ziraat banka 2500 tl üzer 250 tl puan kampanya...  \n",
              "1  yaptık hedi çeki maalesef istedik ürün olmadık...  \n",
              "2  yapmis oldug kampanyalari düzg sekil anla yazi...  \n",
              "3  yap kret kart puan yüz onun alıyor oys ben tam...  \n",
              "4  yaklaşık 3 saat zaman ayır topla 10 ad ayakkab...  "
            ],
            "text/html": [
              "\n",
              "  <div id=\"df-1cd5ef37-3560-4731-afc0-38d7c9c0494b\" class=\"colab-df-container\">\n",
              "    <div>\n",
              "<style scoped>\n",
              "    .dataframe tbody tr th:only-of-type {\n",
              "        vertical-align: middle;\n",
              "    }\n",
              "\n",
              "    .dataframe tbody tr th {\n",
              "        vertical-align: top;\n",
              "    }\n",
              "\n",
              "    .dataframe thead th {\n",
              "        text-align: right;\n",
              "    }\n",
              "</style>\n",
              "<table border=\"1\" class=\"dataframe\">\n",
              "  <thead>\n",
              "    <tr style=\"text-align: right;\">\n",
              "      <th></th>\n",
              "      <th>Yorum</th>\n",
              "      <th>Temiz_Kok_Yorum</th>\n",
              "    </tr>\n",
              "  </thead>\n",
              "  <tbody>\n",
              "    <tr>\n",
              "      <th>0</th>\n",
              "      <td>Ziraat bankasının 2500 tl üzerine 250 tl puan ...</td>\n",
              "      <td>ziraat banka 2500 tl üzer 250 tl puan kampanya...</td>\n",
              "    </tr>\n",
              "    <tr>\n",
              "      <th>1</th>\n",
              "      <td>Yaptığım hediye çekiyle maalesef istediğim ürü...</td>\n",
              "      <td>yaptık hedi çeki maalesef istedik ürün olmadık...</td>\n",
              "    </tr>\n",
              "    <tr>\n",
              "      <th>2</th>\n",
              "      <td>Yapmis oldugunuz kampanyalari düzgün sekilde a...</td>\n",
              "      <td>yapmis oldug kampanyalari düzg sekil anla yazi...</td>\n",
              "    </tr>\n",
              "    <tr>\n",
              "      <th>3</th>\n",
              "      <td>Yapı Kredi kartımın puanını yüzde onunu alıyor...</td>\n",
              "      <td>yap kret kart puan yüz onun alıyor oys ben tam...</td>\n",
              "    </tr>\n",
              "    <tr>\n",
              "      <th>4</th>\n",
              "      <td>Yaklaşık 3 saat zaman ayırdı toplam 10 ad ayak...</td>\n",
              "      <td>yaklaşık 3 saat zaman ayır topla 10 ad ayakkab...</td>\n",
              "    </tr>\n",
              "  </tbody>\n",
              "</table>\n",
              "</div>\n",
              "    <div class=\"colab-df-buttons\">\n",
              "\n",
              "  <div class=\"colab-df-container\">\n",
              "    <button class=\"colab-df-convert\" onclick=\"convertToInteractive('df-1cd5ef37-3560-4731-afc0-38d7c9c0494b')\"\n",
              "            title=\"Convert this dataframe to an interactive table.\"\n",
              "            style=\"display:none;\">\n",
              "\n",
              "  <svg xmlns=\"http://www.w3.org/2000/svg\" height=\"24px\" viewBox=\"0 -960 960 960\">\n",
              "    <path d=\"M120-120v-720h720v720H120Zm60-500h600v-160H180v160Zm220 220h160v-160H400v160Zm0 220h160v-160H400v160ZM180-400h160v-160H180v160Zm440 0h160v-160H620v160ZM180-180h160v-160H180v160Zm440 0h160v-160H620v160Z\"/>\n",
              "  </svg>\n",
              "    </button>\n",
              "\n",
              "  <style>\n",
              "    .colab-df-container {\n",
              "      display:flex;\n",
              "      gap: 12px;\n",
              "    }\n",
              "\n",
              "    .colab-df-convert {\n",
              "      background-color: #E8F0FE;\n",
              "      border: none;\n",
              "      border-radius: 50%;\n",
              "      cursor: pointer;\n",
              "      display: none;\n",
              "      fill: #1967D2;\n",
              "      height: 32px;\n",
              "      padding: 0 0 0 0;\n",
              "      width: 32px;\n",
              "    }\n",
              "\n",
              "    .colab-df-convert:hover {\n",
              "      background-color: #E2EBFA;\n",
              "      box-shadow: 0px 1px 2px rgba(60, 64, 67, 0.3), 0px 1px 3px 1px rgba(60, 64, 67, 0.15);\n",
              "      fill: #174EA6;\n",
              "    }\n",
              "\n",
              "    .colab-df-buttons div {\n",
              "      margin-bottom: 4px;\n",
              "    }\n",
              "\n",
              "    [theme=dark] .colab-df-convert {\n",
              "      background-color: #3B4455;\n",
              "      fill: #D2E3FC;\n",
              "    }\n",
              "\n",
              "    [theme=dark] .colab-df-convert:hover {\n",
              "      background-color: #434B5C;\n",
              "      box-shadow: 0px 1px 3px 1px rgba(0, 0, 0, 0.15);\n",
              "      filter: drop-shadow(0px 1px 2px rgba(0, 0, 0, 0.3));\n",
              "      fill: #FFFFFF;\n",
              "    }\n",
              "  </style>\n",
              "\n",
              "    <script>\n",
              "      const buttonEl =\n",
              "        document.querySelector('#df-1cd5ef37-3560-4731-afc0-38d7c9c0494b button.colab-df-convert');\n",
              "      buttonEl.style.display =\n",
              "        google.colab.kernel.accessAllowed ? 'block' : 'none';\n",
              "\n",
              "      async function convertToInteractive(key) {\n",
              "        const element = document.querySelector('#df-1cd5ef37-3560-4731-afc0-38d7c9c0494b');\n",
              "        const dataTable =\n",
              "          await google.colab.kernel.invokeFunction('convertToInteractive',\n",
              "                                                    [key], {});\n",
              "        if (!dataTable) return;\n",
              "\n",
              "        const docLinkHtml = 'Like what you see? Visit the ' +\n",
              "          '<a target=\"_blank\" href=https://colab.research.google.com/notebooks/data_table.ipynb>data table notebook</a>'\n",
              "          + ' to learn more about interactive tables.';\n",
              "        element.innerHTML = '';\n",
              "        dataTable['output_type'] = 'display_data';\n",
              "        await google.colab.output.renderOutput(dataTable, element);\n",
              "        const docLink = document.createElement('div');\n",
              "        docLink.innerHTML = docLinkHtml;\n",
              "        element.appendChild(docLink);\n",
              "      }\n",
              "    </script>\n",
              "  </div>\n",
              "\n",
              "\n",
              "    <div id=\"df-27421722-f116-4885-83be-28c9375d916c\">\n",
              "      <button class=\"colab-df-quickchart\" onclick=\"quickchart('df-27421722-f116-4885-83be-28c9375d916c')\"\n",
              "                title=\"Suggest charts\"\n",
              "                style=\"display:none;\">\n",
              "\n",
              "<svg xmlns=\"http://www.w3.org/2000/svg\" height=\"24px\"viewBox=\"0 0 24 24\"\n",
              "     width=\"24px\">\n",
              "    <g>\n",
              "        <path d=\"M19 3H5c-1.1 0-2 .9-2 2v14c0 1.1.9 2 2 2h14c1.1 0 2-.9 2-2V5c0-1.1-.9-2-2-2zM9 17H7v-7h2v7zm4 0h-2V7h2v10zm4 0h-2v-4h2v4z\"/>\n",
              "    </g>\n",
              "</svg>\n",
              "      </button>\n",
              "\n",
              "<style>\n",
              "  .colab-df-quickchart {\n",
              "      --bg-color: #E8F0FE;\n",
              "      --fill-color: #1967D2;\n",
              "      --hover-bg-color: #E2EBFA;\n",
              "      --hover-fill-color: #174EA6;\n",
              "      --disabled-fill-color: #AAA;\n",
              "      --disabled-bg-color: #DDD;\n",
              "  }\n",
              "\n",
              "  [theme=dark] .colab-df-quickchart {\n",
              "      --bg-color: #3B4455;\n",
              "      --fill-color: #D2E3FC;\n",
              "      --hover-bg-color: #434B5C;\n",
              "      --hover-fill-color: #FFFFFF;\n",
              "      --disabled-bg-color: #3B4455;\n",
              "      --disabled-fill-color: #666;\n",
              "  }\n",
              "\n",
              "  .colab-df-quickchart {\n",
              "    background-color: var(--bg-color);\n",
              "    border: none;\n",
              "    border-radius: 50%;\n",
              "    cursor: pointer;\n",
              "    display: none;\n",
              "    fill: var(--fill-color);\n",
              "    height: 32px;\n",
              "    padding: 0;\n",
              "    width: 32px;\n",
              "  }\n",
              "\n",
              "  .colab-df-quickchart:hover {\n",
              "    background-color: var(--hover-bg-color);\n",
              "    box-shadow: 0 1px 2px rgba(60, 64, 67, 0.3), 0 1px 3px 1px rgba(60, 64, 67, 0.15);\n",
              "    fill: var(--button-hover-fill-color);\n",
              "  }\n",
              "\n",
              "  .colab-df-quickchart-complete:disabled,\n",
              "  .colab-df-quickchart-complete:disabled:hover {\n",
              "    background-color: var(--disabled-bg-color);\n",
              "    fill: var(--disabled-fill-color);\n",
              "    box-shadow: none;\n",
              "  }\n",
              "\n",
              "  .colab-df-spinner {\n",
              "    border: 2px solid var(--fill-color);\n",
              "    border-color: transparent;\n",
              "    border-bottom-color: var(--fill-color);\n",
              "    animation:\n",
              "      spin 1s steps(1) infinite;\n",
              "  }\n",
              "\n",
              "  @keyframes spin {\n",
              "    0% {\n",
              "      border-color: transparent;\n",
              "      border-bottom-color: var(--fill-color);\n",
              "      border-left-color: var(--fill-color);\n",
              "    }\n",
              "    20% {\n",
              "      border-color: transparent;\n",
              "      border-left-color: var(--fill-color);\n",
              "      border-top-color: var(--fill-color);\n",
              "    }\n",
              "    30% {\n",
              "      border-color: transparent;\n",
              "      border-left-color: var(--fill-color);\n",
              "      border-top-color: var(--fill-color);\n",
              "      border-right-color: var(--fill-color);\n",
              "    }\n",
              "    40% {\n",
              "      border-color: transparent;\n",
              "      border-right-color: var(--fill-color);\n",
              "      border-top-color: var(--fill-color);\n",
              "    }\n",
              "    60% {\n",
              "      border-color: transparent;\n",
              "      border-right-color: var(--fill-color);\n",
              "    }\n",
              "    80% {\n",
              "      border-color: transparent;\n",
              "      border-right-color: var(--fill-color);\n",
              "      border-bottom-color: var(--fill-color);\n",
              "    }\n",
              "    90% {\n",
              "      border-color: transparent;\n",
              "      border-bottom-color: var(--fill-color);\n",
              "    }\n",
              "  }\n",
              "</style>\n",
              "\n",
              "      <script>\n",
              "        async function quickchart(key) {\n",
              "          const quickchartButtonEl =\n",
              "            document.querySelector('#' + key + ' button');\n",
              "          quickchartButtonEl.disabled = true;  // To prevent multiple clicks.\n",
              "          quickchartButtonEl.classList.add('colab-df-spinner');\n",
              "          try {\n",
              "            const charts = await google.colab.kernel.invokeFunction(\n",
              "                'suggestCharts', [key], {});\n",
              "          } catch (error) {\n",
              "            console.error('Error during call to suggestCharts:', error);\n",
              "          }\n",
              "          quickchartButtonEl.classList.remove('colab-df-spinner');\n",
              "          quickchartButtonEl.classList.add('colab-df-quickchart-complete');\n",
              "        }\n",
              "        (() => {\n",
              "          let quickchartButtonEl =\n",
              "            document.querySelector('#df-27421722-f116-4885-83be-28c9375d916c button');\n",
              "          quickchartButtonEl.style.display =\n",
              "            google.colab.kernel.accessAllowed ? 'block' : 'none';\n",
              "        })();\n",
              "      </script>\n",
              "    </div>\n",
              "\n",
              "    </div>\n",
              "  </div>\n"
            ],
            "application/vnd.google.colaboratory.intrinsic+json": {
              "type": "dataframe",
              "summary": "{\n  \"name\": \"df[[\\\"Yorum\\\", \\\"Temiz_Kok_Yorum\\\"]]\",\n  \"rows\": 5,\n  \"fields\": [\n    {\n      \"column\": \"Yorum\",\n      \"properties\": {\n        \"dtype\": \"string\",\n        \"num_unique_values\": 5,\n        \"samples\": [\n          \"Yapt\\u0131\\u011f\\u0131m hediye \\u00e7ekiyle maalesef istedi\\u011fim \\u00fcr\\u00fcn olmad\\u0131\\u011f\\u0131 ve ba\\u015fka bir \\u015fekilde kullanamad\\u0131\\u011f\\u0131m i\\u00e7in s\\u0131k\\u0131nt\\u0131 ya\\u015fad\\u0131m\",\n          \"Yakla\\u015f\\u0131k 3 saat zaman ay\\u0131rd\\u0131 toplam 10 ad ayakkab\\u0131 se\\u00e7tim kasaya geldim ilk ba\\u015fta sadece 1 \\u00fcr\\u00fcnde sorun var sistemde 1 alana 1 bedava g\\u00f6r\\u00fcnm\\u00fcyor dediler rafta ayn\\u0131 \\u00fcr\\u00fcnden bir auru vard\\u0131 g\\u00f6sterdim sonra evet kampanyaya dahil ama sisteme hen\\u00fcz girilmemi\\u015f dediler tamam farkl\\u0131 bir \\u00fcr\\u00fcn alay\\u0131m dedim bir s\\u00fcr\\u00fc u\\u011fra\\u015ft\\u0131k se\\u00e7tik bu da g\\u00f6r\\u00fcnm\\u00fcyor dediler. Tamam 2 \\u00fcr\\u00fcn de kals\\u0131n di\\u011ferlerini alay\\u0131m dedim bu kez 5 dk \\u00f6nce ge\\u00e7en \\u00fcr\\u00fcnler sistemde g\\u00f6r\\u00fcnm\\u00fcyor diye sat\\u0131lmad\\u0131 m\\u00fcd\\u00fcr\\u00fc ile ileti\\u015fime ge\\u00e7tiler yine \\u00e7\\u00f6z\\u00fcm olmad\\u0131 10 tane ayakkab\\u0131dan 2 tanesini alabildik. Yakla\\u015f\\u0131k 3 saat biz orada b\\u00fct\\u00fcn raflar\\u0131 gezdik \\u00e7ocuklar\\u0131ma zor bela b\\u0131 ayakkab\\u0131 be\\u011fendirdim alamadan \\u00e7\\u0131kt\\u0131k. Koskoca firmada b\\u00f6yle \\u015feylerl3 m\\u00fc\\u015fteriyi bezdirmek hi\\u00e7 ho\\u015f de\\u011fil saatlerce u\\u011framam\\u0131\\u015f olsak o 3 ayakkab\\u0131y\\u0131 da almadan \\u00e7\\u0131kacakt\\u0131m ba\\u015fka ma\\u011fazada tekrar ayn\\u0131 i\\u015fkenceye maruz kalmamak i\\u00e7in ald\\u0131m. Farkl\\u0131 kattan bir \\u00fcr\\u00fcn ald\\u0131m orada da 2 m\\u00fc\\u015fteri kasada uzun s\\u00fcre beklediler sistem ile alakal\\u0131 hatta birtanesi ben \\u00fcr\\u00fcn\\u00fcm\\u00fc alip gittim hala u\\u011fra\\u015f\\u0131yordu\",\n          \"Yapmis oldugunuz kampanyalari d\\u00fczg\\u00fcn sekilde anlatan yazilar yazarsaniz , m\\u00fcsteri ve calisan arasinda ansmazlik sorunu cikmaz ve calisanda m\\u00fcsteriye algi sorunu oldugunu s\\u00f6ylemez.. y\\u00fczde 20lik kampanyadan bas ediyorum\"\n        ],\n        \"semantic_type\": \"\",\n        \"description\": \"\"\n      }\n    },\n    {\n      \"column\": \"Temiz_Kok_Yorum\",\n      \"properties\": {\n        \"dtype\": \"string\",\n        \"num_unique_values\": 5,\n        \"samples\": [\n          \"yapt\\u0131k hedi \\u00e7eki maalesef istedik \\u00fcr\\u00fcn olmad\\u0131k ba\\u015fka bir \\u015fekil kullanamad\\u0131k s\\u0131k ya\\u015fa\",\n          \"yakla\\u015f\\u0131k 3 saat zaman ay\\u0131r topla 10 ad ayakkab\\u0131 se\\u00e7t kasa gelt ilk ba\\u015f sade 1 \\u00fcr\\u00fcn sor var siste 1 alan 1 bedav g\\u00f6r\\u00fcnm\\u00fcyor dedi raf ayn\\u0131 \\u00fcr\\u00fcn bir aur var g\\u00f6ster sonr evet kampanya dahil siste hen\\u00fcz giril dedi tama fark bir \\u00fcr\\u00fcn al det bir s\\u00fcr u\\u011fra\\u015f se\\u00e7 g\\u00f6r\\u00fcnm\\u00fcyor dedi tama 2 \\u00fcr\\u00fcn kals di\\u011fer al det 5 dk \\u00f6n\\u00e7 ge\\u00e7en \\u00fcr\\u00fcn siste g\\u00f6r\\u00fcnm\\u00fcyor sat\\u0131l m\\u00fcd\\u00fcr ileti\\u015f ge\\u00e7t yin \\u00e7\\u00f6z olma 10 tane ayakkab\\u0131 2 tane alabil yakla\\u015f\\u0131k 3 saat ora b\\u00fct\\u00fcn raf gez \\u00e7ocuk zor bela b\\u0131 ayakkab\\u0131 be\\u011fendir alama \\u00e7\\u0131k kosko firma b\\u00f6yl \\u015feylerl3 m\\u00fc\\u015fteri bezdirmek ho\\u015f de\\u011fil saat u\\u011fra ol 3 ayakkab\\u0131 alma \\u00e7\\u0131kacak ba\\u015fka ma\\u011faza tekrar ayn\\u0131 i\\u015fkence maruz kalmamak al fark kat bir \\u00fcr\\u00fcn al ora 2 m\\u00fc\\u015fter kasa uzun s\\u00fcr bekl siste alaka hat birtane ben \\u00fcr\\u00fcn alip git hal u\\u011fra\\u015f\\u0131yor\",\n          \"yapmis oldug kampanyalari d\\u00fczg sekil anla yazilar yazarsaniz m\\u00fcster calisan arasinda ansmazlik sor cikmaz calisan m\\u00fcsteri algi sor oldug s\\u00f6ylemez y\\u00fcz 20lik kampanya bas ediyor\"\n        ],\n        \"semantic_type\": \"\",\n        \"description\": \"\"\n      }\n    }\n  ]\n}"
            }
          },
          "metadata": {},
          "execution_count": 42
        }
      ]
    },
    {
      "cell_type": "code",
      "source": [
        "df.shape"
      ],
      "metadata": {
        "colab": {
          "base_uri": "https://localhost:8080/"
        },
        "id": "s20XdItFYFt9",
        "outputId": "a9b9c3cd-8092-46b0-dd0b-2fc10add5071"
      },
      "execution_count": null,
      "outputs": [
        {
          "output_type": "execute_result",
          "data": {
            "text/plain": [
              "(17236, 18)"
            ]
          },
          "metadata": {},
          "execution_count": 43
        }
      ]
    },
    {
      "cell_type": "code",
      "source": [
        "#df = df[~df[\"Temiz_Kok_Yorum\"].str.contains(\"çeşit|numara|çeşi|aradık\", na=False)]\n"
      ],
      "metadata": {
        "id": "fSmWwAQNYFI-"
      },
      "execution_count": null,
      "outputs": []
    },
    {
      "cell_type": "code",
      "source": [
        "df.shape"
      ],
      "metadata": {
        "colab": {
          "base_uri": "https://localhost:8080/"
        },
        "id": "cR-INMyvYIQt",
        "outputId": "1c2aa514-04eb-47d6-8010-c6c92c02acce"
      },
      "execution_count": null,
      "outputs": [
        {
          "output_type": "execute_result",
          "data": {
            "text/plain": [
              "(17236, 18)"
            ]
          },
          "metadata": {},
          "execution_count": 45
        }
      ]
    },
    {
      "cell_type": "code",
      "source": [
        "from collections import Counter\n",
        "import re\n",
        "\n",
        "# Yorum sütunundaki tüm metinleri birleştir\n",
        "tum_yorumlar = \" \".join(df_dogru[\"Temiz_Kok_Yorum\"].dropna().astype(str))\n",
        "\n",
        "# Metni kelimelere ayır ve temizle (sadece harf içerenleri al, küçük harfe çevir)\n",
        "kelimeler = re.findall(r'\\b\\w+\\b', tum_yorumlar.lower())\n",
        "\n",
        "# Kelime sıklıklarını say\n",
        "kelime_sayaci = Counter(kelimeler)\n",
        "\n",
        "# Sonuçları DataFrame'e çevirip en çok geçenleri görebilirsin\n",
        "df_kelime_sayilari = pd.DataFrame(kelime_sayaci.items(), columns=[\"Kelime\", \"Geçme Sayısı\"])\n",
        "df_kelime_sayilari = df_kelime_sayilari.sort_values(by=\"Geçme Sayısı\", ascending=False).reset_index(drop=True)\n",
        "\n",
        "# İlk 20 kelimeyi göster (isteğe bağlı)\n",
        "print(df_kelime_sayilari.head(40))\n"
      ],
      "metadata": {
        "colab": {
          "base_uri": "https://localhost:8080/"
        },
        "id": "PIMX2u-g7yxW",
        "outputId": "496f6c62-a7f4-4d78-c6d4-29320f6b417a"
      },
      "execution_count": null,
      "outputs": [
        {
          "output_type": "stream",
          "name": "stdout",
          "text": [
            "      Kelime  Geçme Sayısı\n",
            "0       gelt            38\n",
            "1      kargo            34\n",
            "2       ürün            31\n",
            "3        gün            28\n",
            "4         al            23\n",
            "5        geç            21\n",
            "6    sipariş            19\n",
            "7      bayra            18\n",
            "8          2            17\n",
            "9   ayakkabı            17\n",
            "10      sonr            16\n",
            "11      tesl            14\n",
            "12  gönderil            11\n",
            "13     veril            11\n",
            "14    kargom            11\n",
            "15      edil            10\n",
            "16         i            10\n",
            "17       ett             8\n",
            "18       bir             8\n",
            "19      sürt             8\n",
            "20     süreç             7\n",
            "21    numara             7\n",
            "22      iade             7\n",
            "23      uzun             7\n",
            "24       var             7\n",
            "25       haf             6\n",
            "26      süre             6\n",
            "27       ade             6\n",
            "28         1             6\n",
            "29      vert             6\n",
            "30    yanlış             6\n",
            "31    mağdur             5\n",
            "32    müşter             5\n",
            "33       önç             5\n",
            "34      ulaş             5\n",
            "35      aras             5\n",
            "36     gelen             5\n",
            "37       olt             5\n",
            "38      fark             5\n",
            "39         z             4\n"
          ]
        }
      ]
    },
    {
      "cell_type": "code",
      "source": [
        "print(df_kelime_sayilari.head(5))"
      ],
      "metadata": {
        "colab": {
          "base_uri": "https://localhost:8080/"
        },
        "id": "cvzcjB30yMNM",
        "outputId": "dbe6fc09-41bf-4051-f332-4a31e1f7c41a"
      },
      "execution_count": null,
      "outputs": [
        {
          "output_type": "stream",
          "name": "stdout",
          "text": [
            "    Kelime  Geçme Sayısı\n",
            "0      geç            21\n",
            "1  sipariş            19\n",
            "2    bayra            18\n",
            "3     sonr            16\n",
            "4     tesl            14\n"
          ]
        }
      ]
    },
    {
      "cell_type": "code",
      "source": [
        "df_kelime_sayilari = df_kelime_sayilari.drop(index=2).reset_index(drop=True)\n"
      ],
      "metadata": {
        "id": "utuhQGb4T2Bg"
      },
      "execution_count": null,
      "outputs": []
    },
    {
      "cell_type": "code",
      "source": [
        "silmek_istenen_kelimeler = [\"kargo\", \"ürün\", \"gün\",\"al\"]\n",
        "\n",
        "df_kelime_sayilari = df_kelime_sayilari[~df_kelime_sayilari[\"Kelime\"].isin(silmek_istenen_kelimeler)]"
      ],
      "metadata": {
        "id": "VG_HY68mXLVm"
      },
      "execution_count": null,
      "outputs": []
    },
    {
      "cell_type": "code",
      "source": [
        "print(df_kelime_sayilari.head(40))"
      ],
      "metadata": {
        "colab": {
          "base_uri": "https://localhost:8080/"
        },
        "id": "Hlh6dSr3UCbX",
        "outputId": "2011b5f0-d9f7-48b4-d9c6-6571c6c83c41"
      },
      "execution_count": null,
      "outputs": [
        {
          "output_type": "stream",
          "name": "stdout",
          "text": [
            "      Kelime  Geçme Sayısı\n",
            "0        geç            21\n",
            "1    sipariş            19\n",
            "2       tesl            14\n",
            "3   gönderil            11\n",
            "4      veril            11\n",
            "5     kargom            11\n",
            "6       edil            10\n",
            "7          i            10\n",
            "8        ett             8\n",
            "9        bir             8\n",
            "10      sürt             8\n",
            "11     süreç             7\n",
            "12    numara             7\n",
            "13      iade             7\n",
            "14      uzun             7\n",
            "15       var             7\n",
            "16       haf             6\n",
            "17      süre             6\n",
            "18       ade             6\n",
            "19         1             6\n",
            "20      vert             6\n",
            "21    yanlış             6\n",
            "22    mağdur             5\n",
            "23    müşter             5\n",
            "24       önç             5\n",
            "25      ulaş             5\n",
            "26      aras             5\n",
            "27     gelen             5\n",
            "28       olt             5\n",
            "29      fark             5\n",
            "30         z             4\n",
            "31       hal             4\n",
            "32       kri             4\n",
            "33         3             4\n",
            "34         5             4\n",
            "35        10             4\n",
            "36     değil             4\n",
            "37   haziran             4\n",
            "38     aldık             4\n",
            "39    terlik             4\n"
          ]
        }
      ]
    },
    {
      "cell_type": "code",
      "source": [
        "df.shape"
      ],
      "metadata": {
        "colab": {
          "base_uri": "https://localhost:8080/"
        },
        "id": "hwZZ8rtCJ1No",
        "outputId": "5dbf5ebc-6a0a-4dad-c97c-d6f2e9140853"
      },
      "execution_count": null,
      "outputs": [
        {
          "output_type": "execute_result",
          "data": {
            "text/plain": [
              "(17236, 18)"
            ]
          },
          "metadata": {},
          "execution_count": 59
        }
      ]
    },
    {
      "cell_type": "code",
      "source": [
        "# İlk 10 kelimeyi al\n",
        "ilk_10_kelimeler = df_kelime_sayilari[\"Kelime\"].head(5).tolist()\n",
        "\n",
        "df = df[df[\"MAP\"] == \"Hatalı Reason Seçimi\"].copy()\n",
        "\n",
        "\n",
        "# Yorum sütununu küçük harfe çevirerek işle\n",
        "def yorumda_geciyor_mu(yorum):\n",
        "    if pd.isna(yorum):\n",
        "        return False\n",
        "    yorum = yorum.lower()\n",
        "    return any(kelime in yorum for kelime in ilk_10_kelimeler)\n",
        "\n",
        "# Belirtilen kelimelerden herhangi birini içeren satırları filtrele (GEÇENLERİ çıkar)\n",
        "df_filtreli = df[~df[\"Yorum\"].apply(yorumda_geciyor_mu)].reset_index(drop=True)\n",
        "\n",
        "# Sonucu kontrol et\n",
        "print(df_filtreli.head())\n"
      ],
      "metadata": {
        "colab": {
          "base_uri": "https://localhost:8080/"
        },
        "id": "9aQXYoTO_Ka4",
        "outputId": "ff945252-a1fd-41ec-f55a-e2a78b76bdf6"
      },
      "execution_count": null,
      "outputs": [
        {
          "output_type": "stream",
          "name": "stdout",
          "text": [
            "                                               Yorum                   MAP  \\\n",
            "0  Yaptığım hediye çekiyle maalesef istediğim ürü...  Hatalı Reason Seçimi   \n",
            "1  Yapmis oldugunuz kampanyalari düzgün sekilde a...  Hatalı Reason Seçimi   \n",
            "2  Yapı Kredi kartımın puanını yüzde onunu alıyor...  Hatalı Reason Seçimi   \n",
            "3  World pay ödeme alamadılar.koç ailem world pay...  Hatalı Reason Seçimi   \n",
            "4  ürünün üzerinde indirim yazmasına rağmen indir...  Hatalı Reason Seçimi   \n",
            "\n",
            "  Unnamed: 2 Unnamed: 3 Unnamed: 4 Unnamed: 5 Unnamed: 6 Unnamed: 7  \\\n",
            "0   KAMPANYA      15429       1807     -13622   KAMPANYA       KASA   \n",
            "1   KAMPANYA        NaN        NaN        NaN        743        287   \n",
            "2   KAMPANYA        NaN        NaN        NaN        NaN        NaN   \n",
            "3   KAMPANYA        NaN        NaN        NaN        NaN        NaN   \n",
            "4   KAMPANYA        NaN        NaN        NaN        NaN        NaN   \n",
            "\n",
            "  Unnamed: 8 Unnamed: 9 Unnamed: 10    Unnamed: 11   Unnamed: 12  Unnamed: 13  \\\n",
            "0     MAĞAZA      KARGO        KUTU  MAGAZA DÜZENİ  ÖDEME SORUNU  ÜRÜN KALİTE   \n",
            "1        433       1400        1380           2527          2740         2297   \n",
            "2        NaN        NaN         NaN            NaN           NaN          NaN   \n",
            "3        NaN        NaN         NaN            NaN           NaN          NaN   \n",
            "4        NaN        NaN         NaN            NaN           NaN          NaN   \n",
            "\n",
            "      Unnamed: 14 Unnamed: 15  Unnamed: 16  \n",
            "0  ÜRÜN ÇEŞİDİ AZ    ÜRÜN GEÇ  ÜRÜN YANLIŞ  \n",
            "1            3466        1814          149  \n",
            "2             NaN         NaN          NaN  \n",
            "3             NaN         NaN          NaN  \n",
            "4             NaN         NaN          NaN  \n"
          ]
        }
      ]
    },
    {
      "cell_type": "code",
      "source": [
        "df.shape"
      ],
      "metadata": {
        "colab": {
          "base_uri": "https://localhost:8080/"
        },
        "id": "huU4t3fOYDUG",
        "outputId": "89c4c973-ff97-45ae-8edb-d60a112fc63e"
      },
      "execution_count": null,
      "outputs": [
        {
          "output_type": "execute_result",
          "data": {
            "text/plain": [
              "(15429, 17)"
            ]
          },
          "metadata": {},
          "execution_count": 70
        }
      ]
    },
    {
      "cell_type": "code",
      "source": [
        "df_filtreli.shape"
      ],
      "metadata": {
        "colab": {
          "base_uri": "https://localhost:8080/"
        },
        "id": "3AKkXmh7J39g",
        "outputId": "114eee5c-78d4-41b2-db6d-294d2fc573a7"
      },
      "execution_count": null,
      "outputs": [
        {
          "output_type": "execute_result",
          "data": {
            "text/plain": [
              "(12640, 17)"
            ]
          },
          "metadata": {},
          "execution_count": 71
        }
      ]
    },
    {
      "cell_type": "code",
      "source": [
        "print(df_filtreli.columns)"
      ],
      "metadata": {
        "colab": {
          "base_uri": "https://localhost:8080/"
        },
        "id": "UrUxuTMkzc6M",
        "outputId": "ea0ece65-d3b6-4243-a174-8d5a47db1c9e"
      },
      "execution_count": null,
      "outputs": [
        {
          "output_type": "stream",
          "name": "stdout",
          "text": [
            "Index(['Yorum', 'MAP', 'Unnamed: 2', 'Unnamed: 3', 'Unnamed: 4', 'Unnamed: 5',\n",
            "       'Unnamed: 6', 'Unnamed: 7', 'Unnamed: 8', 'Unnamed: 9', 'Unnamed: 10',\n",
            "       'Unnamed: 11', 'Unnamed: 12', 'Unnamed: 13', 'Unnamed: 14',\n",
            "       'Unnamed: 15', 'Unnamed: 16'],\n",
            "      dtype='object')\n"
          ]
        }
      ]
    },
    {
      "cell_type": "code",
      "source": [
        "# Excel dosyasına kaydet\n",
        "df_filtreli.to_excel(\"10word_filtered.xlsx\", index=False)\n",
        "print(\"Hatalı veriler 10word_filtered.xlsx olarak kaydedildi.\")\n",
        "\n",
        "# Dosyayı Colab üzerinden indir\n",
        "from google.colab import files\n",
        "files.download(\"10word_filtered.xlsx\")\n"
      ],
      "metadata": {
        "colab": {
          "base_uri": "https://localhost:8080/",
          "height": 34
        },
        "id": "75yvCJZXJ6fE",
        "outputId": "42c04ef1-cd28-40a7-f096-0d2a10fe82db"
      },
      "execution_count": null,
      "outputs": [
        {
          "output_type": "stream",
          "name": "stdout",
          "text": [
            "Hatalı veriler 10word_filtered.xlsx olarak kaydedildi.\n"
          ]
        },
        {
          "output_type": "display_data",
          "data": {
            "text/plain": [
              "<IPython.core.display.Javascript object>"
            ],
            "application/javascript": [
              "\n",
              "    async function download(id, filename, size) {\n",
              "      if (!google.colab.kernel.accessAllowed) {\n",
              "        return;\n",
              "      }\n",
              "      const div = document.createElement('div');\n",
              "      const label = document.createElement('label');\n",
              "      label.textContent = `Downloading \"${filename}\": `;\n",
              "      div.appendChild(label);\n",
              "      const progress = document.createElement('progress');\n",
              "      progress.max = size;\n",
              "      div.appendChild(progress);\n",
              "      document.body.appendChild(div);\n",
              "\n",
              "      const buffers = [];\n",
              "      let downloaded = 0;\n",
              "\n",
              "      const channel = await google.colab.kernel.comms.open(id);\n",
              "      // Send a message to notify the kernel that we're ready.\n",
              "      channel.send({})\n",
              "\n",
              "      for await (const message of channel.messages) {\n",
              "        // Send a message to notify the kernel that we're ready.\n",
              "        channel.send({})\n",
              "        if (message.buffers) {\n",
              "          for (const buffer of message.buffers) {\n",
              "            buffers.push(buffer);\n",
              "            downloaded += buffer.byteLength;\n",
              "            progress.value = downloaded;\n",
              "          }\n",
              "        }\n",
              "      }\n",
              "      const blob = new Blob(buffers, {type: 'application/binary'});\n",
              "      const a = document.createElement('a');\n",
              "      a.href = window.URL.createObjectURL(blob);\n",
              "      a.download = filename;\n",
              "      div.appendChild(a);\n",
              "      a.click();\n",
              "      div.remove();\n",
              "    }\n",
              "  "
            ]
          },
          "metadata": {}
        },
        {
          "output_type": "display_data",
          "data": {
            "text/plain": [
              "<IPython.core.display.Javascript object>"
            ],
            "application/javascript": [
              "download(\"download_968e6ad4-dfdc-48c2-a9b6-7eb94b7af8e0\", \"10word_filtered.xlsx\", 1040929)"
            ]
          },
          "metadata": {}
        }
      ]
    },
    {
      "cell_type": "code",
      "source": [],
      "metadata": {
        "id": "YhR4CJnjz3a0"
      },
      "execution_count": null,
      "outputs": []
    }
  ]
}
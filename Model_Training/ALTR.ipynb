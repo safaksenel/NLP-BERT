{
  "nbformat": 4,
  "nbformat_minor": 0,
  "metadata": {
    "colab": {
      "provenance": [],
      "gpuType": "T4"
    },
    "kernelspec": {
      "name": "python3",
      "display_name": "Python 3"
    },
    "language_info": {
      "name": "python"
    },
    "accelerator": "GPU",
    "widgets": {
      "application/vnd.jupyter.widget-state+json": {
        "eab4e4869e634e19a76a776bc2d3b067": {
          "model_module": "@jupyter-widgets/controls",
          "model_name": "HBoxModel",
          "model_module_version": "1.5.0",
          "state": {
            "_dom_classes": [],
            "_model_module": "@jupyter-widgets/controls",
            "_model_module_version": "1.5.0",
            "_model_name": "HBoxModel",
            "_view_count": null,
            "_view_module": "@jupyter-widgets/controls",
            "_view_module_version": "1.5.0",
            "_view_name": "HBoxView",
            "box_style": "",
            "children": [
              "IPY_MODEL_e132c7ce1a534903968e010b29e19768",
              "IPY_MODEL_fc4f7821eba44d6b8bcef9fa6cf41cc4",
              "IPY_MODEL_fca0191891934552a8473fa2dc6e5fa6"
            ],
            "layout": "IPY_MODEL_6939851e65344fb8aa4de271e14eac23"
          }
        },
        "e132c7ce1a534903968e010b29e19768": {
          "model_module": "@jupyter-widgets/controls",
          "model_name": "HTMLModel",
          "model_module_version": "1.5.0",
          "state": {
            "_dom_classes": [],
            "_model_module": "@jupyter-widgets/controls",
            "_model_module_version": "1.5.0",
            "_model_name": "HTMLModel",
            "_view_count": null,
            "_view_module": "@jupyter-widgets/controls",
            "_view_module_version": "1.5.0",
            "_view_name": "HTMLView",
            "description": "",
            "description_tooltip": null,
            "layout": "IPY_MODEL_d442a11fb0bb4a1da76fbf9046404b8c",
            "placeholder": "​",
            "style": "IPY_MODEL_294ada4580b145f29adcfb3155de63db",
            "value": "tokenizer_config.json: 100%"
          }
        },
        "fc4f7821eba44d6b8bcef9fa6cf41cc4": {
          "model_module": "@jupyter-widgets/controls",
          "model_name": "FloatProgressModel",
          "model_module_version": "1.5.0",
          "state": {
            "_dom_classes": [],
            "_model_module": "@jupyter-widgets/controls",
            "_model_module_version": "1.5.0",
            "_model_name": "FloatProgressModel",
            "_view_count": null,
            "_view_module": "@jupyter-widgets/controls",
            "_view_module_version": "1.5.0",
            "_view_name": "ProgressView",
            "bar_style": "success",
            "description": "",
            "description_tooltip": null,
            "layout": "IPY_MODEL_036990cef2bf47b18880c03d57179881",
            "max": 60,
            "min": 0,
            "orientation": "horizontal",
            "style": "IPY_MODEL_7e8801384a8449ceb47df1ab4b594da4",
            "value": 60
          }
        },
        "fca0191891934552a8473fa2dc6e5fa6": {
          "model_module": "@jupyter-widgets/controls",
          "model_name": "HTMLModel",
          "model_module_version": "1.5.0",
          "state": {
            "_dom_classes": [],
            "_model_module": "@jupyter-widgets/controls",
            "_model_module_version": "1.5.0",
            "_model_name": "HTMLModel",
            "_view_count": null,
            "_view_module": "@jupyter-widgets/controls",
            "_view_module_version": "1.5.0",
            "_view_name": "HTMLView",
            "description": "",
            "description_tooltip": null,
            "layout": "IPY_MODEL_98da8641228c412191eb32fd04b82fe5",
            "placeholder": "​",
            "style": "IPY_MODEL_ef93e4edebf24806adaf029cad9e792f",
            "value": " 60.0/60.0 [00:00&lt;00:00, 6.54kB/s]"
          }
        },
        "6939851e65344fb8aa4de271e14eac23": {
          "model_module": "@jupyter-widgets/base",
          "model_name": "LayoutModel",
          "model_module_version": "1.2.0",
          "state": {
            "_model_module": "@jupyter-widgets/base",
            "_model_module_version": "1.2.0",
            "_model_name": "LayoutModel",
            "_view_count": null,
            "_view_module": "@jupyter-widgets/base",
            "_view_module_version": "1.2.0",
            "_view_name": "LayoutView",
            "align_content": null,
            "align_items": null,
            "align_self": null,
            "border": null,
            "bottom": null,
            "display": null,
            "flex": null,
            "flex_flow": null,
            "grid_area": null,
            "grid_auto_columns": null,
            "grid_auto_flow": null,
            "grid_auto_rows": null,
            "grid_column": null,
            "grid_gap": null,
            "grid_row": null,
            "grid_template_areas": null,
            "grid_template_columns": null,
            "grid_template_rows": null,
            "height": null,
            "justify_content": null,
            "justify_items": null,
            "left": null,
            "margin": null,
            "max_height": null,
            "max_width": null,
            "min_height": null,
            "min_width": null,
            "object_fit": null,
            "object_position": null,
            "order": null,
            "overflow": null,
            "overflow_x": null,
            "overflow_y": null,
            "padding": null,
            "right": null,
            "top": null,
            "visibility": null,
            "width": null
          }
        },
        "d442a11fb0bb4a1da76fbf9046404b8c": {
          "model_module": "@jupyter-widgets/base",
          "model_name": "LayoutModel",
          "model_module_version": "1.2.0",
          "state": {
            "_model_module": "@jupyter-widgets/base",
            "_model_module_version": "1.2.0",
            "_model_name": "LayoutModel",
            "_view_count": null,
            "_view_module": "@jupyter-widgets/base",
            "_view_module_version": "1.2.0",
            "_view_name": "LayoutView",
            "align_content": null,
            "align_items": null,
            "align_self": null,
            "border": null,
            "bottom": null,
            "display": null,
            "flex": null,
            "flex_flow": null,
            "grid_area": null,
            "grid_auto_columns": null,
            "grid_auto_flow": null,
            "grid_auto_rows": null,
            "grid_column": null,
            "grid_gap": null,
            "grid_row": null,
            "grid_template_areas": null,
            "grid_template_columns": null,
            "grid_template_rows": null,
            "height": null,
            "justify_content": null,
            "justify_items": null,
            "left": null,
            "margin": null,
            "max_height": null,
            "max_width": null,
            "min_height": null,
            "min_width": null,
            "object_fit": null,
            "object_position": null,
            "order": null,
            "overflow": null,
            "overflow_x": null,
            "overflow_y": null,
            "padding": null,
            "right": null,
            "top": null,
            "visibility": null,
            "width": null
          }
        },
        "294ada4580b145f29adcfb3155de63db": {
          "model_module": "@jupyter-widgets/controls",
          "model_name": "DescriptionStyleModel",
          "model_module_version": "1.5.0",
          "state": {
            "_model_module": "@jupyter-widgets/controls",
            "_model_module_version": "1.5.0",
            "_model_name": "DescriptionStyleModel",
            "_view_count": null,
            "_view_module": "@jupyter-widgets/base",
            "_view_module_version": "1.2.0",
            "_view_name": "StyleView",
            "description_width": ""
          }
        },
        "036990cef2bf47b18880c03d57179881": {
          "model_module": "@jupyter-widgets/base",
          "model_name": "LayoutModel",
          "model_module_version": "1.2.0",
          "state": {
            "_model_module": "@jupyter-widgets/base",
            "_model_module_version": "1.2.0",
            "_model_name": "LayoutModel",
            "_view_count": null,
            "_view_module": "@jupyter-widgets/base",
            "_view_module_version": "1.2.0",
            "_view_name": "LayoutView",
            "align_content": null,
            "align_items": null,
            "align_self": null,
            "border": null,
            "bottom": null,
            "display": null,
            "flex": null,
            "flex_flow": null,
            "grid_area": null,
            "grid_auto_columns": null,
            "grid_auto_flow": null,
            "grid_auto_rows": null,
            "grid_column": null,
            "grid_gap": null,
            "grid_row": null,
            "grid_template_areas": null,
            "grid_template_columns": null,
            "grid_template_rows": null,
            "height": null,
            "justify_content": null,
            "justify_items": null,
            "left": null,
            "margin": null,
            "max_height": null,
            "max_width": null,
            "min_height": null,
            "min_width": null,
            "object_fit": null,
            "object_position": null,
            "order": null,
            "overflow": null,
            "overflow_x": null,
            "overflow_y": null,
            "padding": null,
            "right": null,
            "top": null,
            "visibility": null,
            "width": null
          }
        },
        "7e8801384a8449ceb47df1ab4b594da4": {
          "model_module": "@jupyter-widgets/controls",
          "model_name": "ProgressStyleModel",
          "model_module_version": "1.5.0",
          "state": {
            "_model_module": "@jupyter-widgets/controls",
            "_model_module_version": "1.5.0",
            "_model_name": "ProgressStyleModel",
            "_view_count": null,
            "_view_module": "@jupyter-widgets/base",
            "_view_module_version": "1.2.0",
            "_view_name": "StyleView",
            "bar_color": null,
            "description_width": ""
          }
        },
        "98da8641228c412191eb32fd04b82fe5": {
          "model_module": "@jupyter-widgets/base",
          "model_name": "LayoutModel",
          "model_module_version": "1.2.0",
          "state": {
            "_model_module": "@jupyter-widgets/base",
            "_model_module_version": "1.2.0",
            "_model_name": "LayoutModel",
            "_view_count": null,
            "_view_module": "@jupyter-widgets/base",
            "_view_module_version": "1.2.0",
            "_view_name": "LayoutView",
            "align_content": null,
            "align_items": null,
            "align_self": null,
            "border": null,
            "bottom": null,
            "display": null,
            "flex": null,
            "flex_flow": null,
            "grid_area": null,
            "grid_auto_columns": null,
            "grid_auto_flow": null,
            "grid_auto_rows": null,
            "grid_column": null,
            "grid_gap": null,
            "grid_row": null,
            "grid_template_areas": null,
            "grid_template_columns": null,
            "grid_template_rows": null,
            "height": null,
            "justify_content": null,
            "justify_items": null,
            "left": null,
            "margin": null,
            "max_height": null,
            "max_width": null,
            "min_height": null,
            "min_width": null,
            "object_fit": null,
            "object_position": null,
            "order": null,
            "overflow": null,
            "overflow_x": null,
            "overflow_y": null,
            "padding": null,
            "right": null,
            "top": null,
            "visibility": null,
            "width": null
          }
        },
        "ef93e4edebf24806adaf029cad9e792f": {
          "model_module": "@jupyter-widgets/controls",
          "model_name": "DescriptionStyleModel",
          "model_module_version": "1.5.0",
          "state": {
            "_model_module": "@jupyter-widgets/controls",
            "_model_module_version": "1.5.0",
            "_model_name": "DescriptionStyleModel",
            "_view_count": null,
            "_view_module": "@jupyter-widgets/base",
            "_view_module_version": "1.2.0",
            "_view_name": "StyleView",
            "description_width": ""
          }
        },
        "c0490aca244a4622acfea919fd9f20a9": {
          "model_module": "@jupyter-widgets/controls",
          "model_name": "HBoxModel",
          "model_module_version": "1.5.0",
          "state": {
            "_dom_classes": [],
            "_model_module": "@jupyter-widgets/controls",
            "_model_module_version": "1.5.0",
            "_model_name": "HBoxModel",
            "_view_count": null,
            "_view_module": "@jupyter-widgets/controls",
            "_view_module_version": "1.5.0",
            "_view_name": "HBoxView",
            "box_style": "",
            "children": [
              "IPY_MODEL_3b788d29fcee4cb984719a80936c4e38",
              "IPY_MODEL_3c2ceabff9b94a28971792d20c698be1",
              "IPY_MODEL_8f31f72e276e4db18036a6032fb62d97"
            ],
            "layout": "IPY_MODEL_57a65f37affb47acabc47d1c7b28ea4e"
          }
        },
        "3b788d29fcee4cb984719a80936c4e38": {
          "model_module": "@jupyter-widgets/controls",
          "model_name": "HTMLModel",
          "model_module_version": "1.5.0",
          "state": {
            "_dom_classes": [],
            "_model_module": "@jupyter-widgets/controls",
            "_model_module_version": "1.5.0",
            "_model_name": "HTMLModel",
            "_view_count": null,
            "_view_module": "@jupyter-widgets/controls",
            "_view_module_version": "1.5.0",
            "_view_name": "HTMLView",
            "description": "",
            "description_tooltip": null,
            "layout": "IPY_MODEL_97ae6c15c3204da4a2f911c00c777e92",
            "placeholder": "​",
            "style": "IPY_MODEL_0694ea32d67a4403a89d012e70160558",
            "value": "config.json: 100%"
          }
        },
        "3c2ceabff9b94a28971792d20c698be1": {
          "model_module": "@jupyter-widgets/controls",
          "model_name": "FloatProgressModel",
          "model_module_version": "1.5.0",
          "state": {
            "_dom_classes": [],
            "_model_module": "@jupyter-widgets/controls",
            "_model_module_version": "1.5.0",
            "_model_name": "FloatProgressModel",
            "_view_count": null,
            "_view_module": "@jupyter-widgets/controls",
            "_view_module_version": "1.5.0",
            "_view_name": "ProgressView",
            "bar_style": "success",
            "description": "",
            "description_tooltip": null,
            "layout": "IPY_MODEL_03d844f0bebf4947b58b96a486a27742",
            "max": 385,
            "min": 0,
            "orientation": "horizontal",
            "style": "IPY_MODEL_c70b00e24afb415099d1cb3c0a6a58d1",
            "value": 385
          }
        },
        "8f31f72e276e4db18036a6032fb62d97": {
          "model_module": "@jupyter-widgets/controls",
          "model_name": "HTMLModel",
          "model_module_version": "1.5.0",
          "state": {
            "_dom_classes": [],
            "_model_module": "@jupyter-widgets/controls",
            "_model_module_version": "1.5.0",
            "_model_name": "HTMLModel",
            "_view_count": null,
            "_view_module": "@jupyter-widgets/controls",
            "_view_module_version": "1.5.0",
            "_view_name": "HTMLView",
            "description": "",
            "description_tooltip": null,
            "layout": "IPY_MODEL_ed284569942842348d924201d8dc6b68",
            "placeholder": "​",
            "style": "IPY_MODEL_79af242937794b9fa18732d5fc31635e",
            "value": " 385/385 [00:00&lt;00:00, 43.3kB/s]"
          }
        },
        "57a65f37affb47acabc47d1c7b28ea4e": {
          "model_module": "@jupyter-widgets/base",
          "model_name": "LayoutModel",
          "model_module_version": "1.2.0",
          "state": {
            "_model_module": "@jupyter-widgets/base",
            "_model_module_version": "1.2.0",
            "_model_name": "LayoutModel",
            "_view_count": null,
            "_view_module": "@jupyter-widgets/base",
            "_view_module_version": "1.2.0",
            "_view_name": "LayoutView",
            "align_content": null,
            "align_items": null,
            "align_self": null,
            "border": null,
            "bottom": null,
            "display": null,
            "flex": null,
            "flex_flow": null,
            "grid_area": null,
            "grid_auto_columns": null,
            "grid_auto_flow": null,
            "grid_auto_rows": null,
            "grid_column": null,
            "grid_gap": null,
            "grid_row": null,
            "grid_template_areas": null,
            "grid_template_columns": null,
            "grid_template_rows": null,
            "height": null,
            "justify_content": null,
            "justify_items": null,
            "left": null,
            "margin": null,
            "max_height": null,
            "max_width": null,
            "min_height": null,
            "min_width": null,
            "object_fit": null,
            "object_position": null,
            "order": null,
            "overflow": null,
            "overflow_x": null,
            "overflow_y": null,
            "padding": null,
            "right": null,
            "top": null,
            "visibility": null,
            "width": null
          }
        },
        "97ae6c15c3204da4a2f911c00c777e92": {
          "model_module": "@jupyter-widgets/base",
          "model_name": "LayoutModel",
          "model_module_version": "1.2.0",
          "state": {
            "_model_module": "@jupyter-widgets/base",
            "_model_module_version": "1.2.0",
            "_model_name": "LayoutModel",
            "_view_count": null,
            "_view_module": "@jupyter-widgets/base",
            "_view_module_version": "1.2.0",
            "_view_name": "LayoutView",
            "align_content": null,
            "align_items": null,
            "align_self": null,
            "border": null,
            "bottom": null,
            "display": null,
            "flex": null,
            "flex_flow": null,
            "grid_area": null,
            "grid_auto_columns": null,
            "grid_auto_flow": null,
            "grid_auto_rows": null,
            "grid_column": null,
            "grid_gap": null,
            "grid_row": null,
            "grid_template_areas": null,
            "grid_template_columns": null,
            "grid_template_rows": null,
            "height": null,
            "justify_content": null,
            "justify_items": null,
            "left": null,
            "margin": null,
            "max_height": null,
            "max_width": null,
            "min_height": null,
            "min_width": null,
            "object_fit": null,
            "object_position": null,
            "order": null,
            "overflow": null,
            "overflow_x": null,
            "overflow_y": null,
            "padding": null,
            "right": null,
            "top": null,
            "visibility": null,
            "width": null
          }
        },
        "0694ea32d67a4403a89d012e70160558": {
          "model_module": "@jupyter-widgets/controls",
          "model_name": "DescriptionStyleModel",
          "model_module_version": "1.5.0",
          "state": {
            "_model_module": "@jupyter-widgets/controls",
            "_model_module_version": "1.5.0",
            "_model_name": "DescriptionStyleModel",
            "_view_count": null,
            "_view_module": "@jupyter-widgets/base",
            "_view_module_version": "1.2.0",
            "_view_name": "StyleView",
            "description_width": ""
          }
        },
        "03d844f0bebf4947b58b96a486a27742": {
          "model_module": "@jupyter-widgets/base",
          "model_name": "LayoutModel",
          "model_module_version": "1.2.0",
          "state": {
            "_model_module": "@jupyter-widgets/base",
            "_model_module_version": "1.2.0",
            "_model_name": "LayoutModel",
            "_view_count": null,
            "_view_module": "@jupyter-widgets/base",
            "_view_module_version": "1.2.0",
            "_view_name": "LayoutView",
            "align_content": null,
            "align_items": null,
            "align_self": null,
            "border": null,
            "bottom": null,
            "display": null,
            "flex": null,
            "flex_flow": null,
            "grid_area": null,
            "grid_auto_columns": null,
            "grid_auto_flow": null,
            "grid_auto_rows": null,
            "grid_column": null,
            "grid_gap": null,
            "grid_row": null,
            "grid_template_areas": null,
            "grid_template_columns": null,
            "grid_template_rows": null,
            "height": null,
            "justify_content": null,
            "justify_items": null,
            "left": null,
            "margin": null,
            "max_height": null,
            "max_width": null,
            "min_height": null,
            "min_width": null,
            "object_fit": null,
            "object_position": null,
            "order": null,
            "overflow": null,
            "overflow_x": null,
            "overflow_y": null,
            "padding": null,
            "right": null,
            "top": null,
            "visibility": null,
            "width": null
          }
        },
        "c70b00e24afb415099d1cb3c0a6a58d1": {
          "model_module": "@jupyter-widgets/controls",
          "model_name": "ProgressStyleModel",
          "model_module_version": "1.5.0",
          "state": {
            "_model_module": "@jupyter-widgets/controls",
            "_model_module_version": "1.5.0",
            "_model_name": "ProgressStyleModel",
            "_view_count": null,
            "_view_module": "@jupyter-widgets/base",
            "_view_module_version": "1.2.0",
            "_view_name": "StyleView",
            "bar_color": null,
            "description_width": ""
          }
        },
        "ed284569942842348d924201d8dc6b68": {
          "model_module": "@jupyter-widgets/base",
          "model_name": "LayoutModel",
          "model_module_version": "1.2.0",
          "state": {
            "_model_module": "@jupyter-widgets/base",
            "_model_module_version": "1.2.0",
            "_model_name": "LayoutModel",
            "_view_count": null,
            "_view_module": "@jupyter-widgets/base",
            "_view_module_version": "1.2.0",
            "_view_name": "LayoutView",
            "align_content": null,
            "align_items": null,
            "align_self": null,
            "border": null,
            "bottom": null,
            "display": null,
            "flex": null,
            "flex_flow": null,
            "grid_area": null,
            "grid_auto_columns": null,
            "grid_auto_flow": null,
            "grid_auto_rows": null,
            "grid_column": null,
            "grid_gap": null,
            "grid_row": null,
            "grid_template_areas": null,
            "grid_template_columns": null,
            "grid_template_rows": null,
            "height": null,
            "justify_content": null,
            "justify_items": null,
            "left": null,
            "margin": null,
            "max_height": null,
            "max_width": null,
            "min_height": null,
            "min_width": null,
            "object_fit": null,
            "object_position": null,
            "order": null,
            "overflow": null,
            "overflow_x": null,
            "overflow_y": null,
            "padding": null,
            "right": null,
            "top": null,
            "visibility": null,
            "width": null
          }
        },
        "79af242937794b9fa18732d5fc31635e": {
          "model_module": "@jupyter-widgets/controls",
          "model_name": "DescriptionStyleModel",
          "model_module_version": "1.5.0",
          "state": {
            "_model_module": "@jupyter-widgets/controls",
            "_model_module_version": "1.5.0",
            "_model_name": "DescriptionStyleModel",
            "_view_count": null,
            "_view_module": "@jupyter-widgets/base",
            "_view_module_version": "1.2.0",
            "_view_name": "StyleView",
            "description_width": ""
          }
        },
        "411d8e0b02a34f438b635bc9d8c001b0": {
          "model_module": "@jupyter-widgets/controls",
          "model_name": "HBoxModel",
          "model_module_version": "1.5.0",
          "state": {
            "_dom_classes": [],
            "_model_module": "@jupyter-widgets/controls",
            "_model_module_version": "1.5.0",
            "_model_name": "HBoxModel",
            "_view_count": null,
            "_view_module": "@jupyter-widgets/controls",
            "_view_module_version": "1.5.0",
            "_view_name": "HBoxView",
            "box_style": "",
            "children": [
              "IPY_MODEL_5d0dd7448e2f4180a8ade4fd34c3b37b",
              "IPY_MODEL_12c4654d674d44a2a9ac96b18ef813c4",
              "IPY_MODEL_18c0bf83289d488c86e647627b7c57c0"
            ],
            "layout": "IPY_MODEL_cffa99f1c41a42009e1158bf186e2e9f"
          }
        },
        "5d0dd7448e2f4180a8ade4fd34c3b37b": {
          "model_module": "@jupyter-widgets/controls",
          "model_name": "HTMLModel",
          "model_module_version": "1.5.0",
          "state": {
            "_dom_classes": [],
            "_model_module": "@jupyter-widgets/controls",
            "_model_module_version": "1.5.0",
            "_model_name": "HTMLModel",
            "_view_count": null,
            "_view_module": "@jupyter-widgets/controls",
            "_view_module_version": "1.5.0",
            "_view_name": "HTMLView",
            "description": "",
            "description_tooltip": null,
            "layout": "IPY_MODEL_248b9f1a7bd043b6a1d28d1731185da4",
            "placeholder": "​",
            "style": "IPY_MODEL_281e6fcc99c7452e904633e9943a6f15",
            "value": "vocab.txt: 100%"
          }
        },
        "12c4654d674d44a2a9ac96b18ef813c4": {
          "model_module": "@jupyter-widgets/controls",
          "model_name": "FloatProgressModel",
          "model_module_version": "1.5.0",
          "state": {
            "_dom_classes": [],
            "_model_module": "@jupyter-widgets/controls",
            "_model_module_version": "1.5.0",
            "_model_name": "FloatProgressModel",
            "_view_count": null,
            "_view_module": "@jupyter-widgets/controls",
            "_view_module_version": "1.5.0",
            "_view_name": "ProgressView",
            "bar_style": "success",
            "description": "",
            "description_tooltip": null,
            "layout": "IPY_MODEL_8d920634ce0a4969b4f9974f977fa884",
            "max": 251003,
            "min": 0,
            "orientation": "horizontal",
            "style": "IPY_MODEL_3f736e5b0a04495ca775e6fcebb2b4fe",
            "value": 251003
          }
        },
        "18c0bf83289d488c86e647627b7c57c0": {
          "model_module": "@jupyter-widgets/controls",
          "model_name": "HTMLModel",
          "model_module_version": "1.5.0",
          "state": {
            "_dom_classes": [],
            "_model_module": "@jupyter-widgets/controls",
            "_model_module_version": "1.5.0",
            "_model_name": "HTMLModel",
            "_view_count": null,
            "_view_module": "@jupyter-widgets/controls",
            "_view_module_version": "1.5.0",
            "_view_name": "HTMLView",
            "description": "",
            "description_tooltip": null,
            "layout": "IPY_MODEL_364b3bba648e47f2a0e2050c723f9dd5",
            "placeholder": "​",
            "style": "IPY_MODEL_284f877050524c27a5f9ab2e13ecae9a",
            "value": " 251k/251k [00:00&lt;00:00, 1.16MB/s]"
          }
        },
        "cffa99f1c41a42009e1158bf186e2e9f": {
          "model_module": "@jupyter-widgets/base",
          "model_name": "LayoutModel",
          "model_module_version": "1.2.0",
          "state": {
            "_model_module": "@jupyter-widgets/base",
            "_model_module_version": "1.2.0",
            "_model_name": "LayoutModel",
            "_view_count": null,
            "_view_module": "@jupyter-widgets/base",
            "_view_module_version": "1.2.0",
            "_view_name": "LayoutView",
            "align_content": null,
            "align_items": null,
            "align_self": null,
            "border": null,
            "bottom": null,
            "display": null,
            "flex": null,
            "flex_flow": null,
            "grid_area": null,
            "grid_auto_columns": null,
            "grid_auto_flow": null,
            "grid_auto_rows": null,
            "grid_column": null,
            "grid_gap": null,
            "grid_row": null,
            "grid_template_areas": null,
            "grid_template_columns": null,
            "grid_template_rows": null,
            "height": null,
            "justify_content": null,
            "justify_items": null,
            "left": null,
            "margin": null,
            "max_height": null,
            "max_width": null,
            "min_height": null,
            "min_width": null,
            "object_fit": null,
            "object_position": null,
            "order": null,
            "overflow": null,
            "overflow_x": null,
            "overflow_y": null,
            "padding": null,
            "right": null,
            "top": null,
            "visibility": null,
            "width": null
          }
        },
        "248b9f1a7bd043b6a1d28d1731185da4": {
          "model_module": "@jupyter-widgets/base",
          "model_name": "LayoutModel",
          "model_module_version": "1.2.0",
          "state": {
            "_model_module": "@jupyter-widgets/base",
            "_model_module_version": "1.2.0",
            "_model_name": "LayoutModel",
            "_view_count": null,
            "_view_module": "@jupyter-widgets/base",
            "_view_module_version": "1.2.0",
            "_view_name": "LayoutView",
            "align_content": null,
            "align_items": null,
            "align_self": null,
            "border": null,
            "bottom": null,
            "display": null,
            "flex": null,
            "flex_flow": null,
            "grid_area": null,
            "grid_auto_columns": null,
            "grid_auto_flow": null,
            "grid_auto_rows": null,
            "grid_column": null,
            "grid_gap": null,
            "grid_row": null,
            "grid_template_areas": null,
            "grid_template_columns": null,
            "grid_template_rows": null,
            "height": null,
            "justify_content": null,
            "justify_items": null,
            "left": null,
            "margin": null,
            "max_height": null,
            "max_width": null,
            "min_height": null,
            "min_width": null,
            "object_fit": null,
            "object_position": null,
            "order": null,
            "overflow": null,
            "overflow_x": null,
            "overflow_y": null,
            "padding": null,
            "right": null,
            "top": null,
            "visibility": null,
            "width": null
          }
        },
        "281e6fcc99c7452e904633e9943a6f15": {
          "model_module": "@jupyter-widgets/controls",
          "model_name": "DescriptionStyleModel",
          "model_module_version": "1.5.0",
          "state": {
            "_model_module": "@jupyter-widgets/controls",
            "_model_module_version": "1.5.0",
            "_model_name": "DescriptionStyleModel",
            "_view_count": null,
            "_view_module": "@jupyter-widgets/base",
            "_view_module_version": "1.2.0",
            "_view_name": "StyleView",
            "description_width": ""
          }
        },
        "8d920634ce0a4969b4f9974f977fa884": {
          "model_module": "@jupyter-widgets/base",
          "model_name": "LayoutModel",
          "model_module_version": "1.2.0",
          "state": {
            "_model_module": "@jupyter-widgets/base",
            "_model_module_version": "1.2.0",
            "_model_name": "LayoutModel",
            "_view_count": null,
            "_view_module": "@jupyter-widgets/base",
            "_view_module_version": "1.2.0",
            "_view_name": "LayoutView",
            "align_content": null,
            "align_items": null,
            "align_self": null,
            "border": null,
            "bottom": null,
            "display": null,
            "flex": null,
            "flex_flow": null,
            "grid_area": null,
            "grid_auto_columns": null,
            "grid_auto_flow": null,
            "grid_auto_rows": null,
            "grid_column": null,
            "grid_gap": null,
            "grid_row": null,
            "grid_template_areas": null,
            "grid_template_columns": null,
            "grid_template_rows": null,
            "height": null,
            "justify_content": null,
            "justify_items": null,
            "left": null,
            "margin": null,
            "max_height": null,
            "max_width": null,
            "min_height": null,
            "min_width": null,
            "object_fit": null,
            "object_position": null,
            "order": null,
            "overflow": null,
            "overflow_x": null,
            "overflow_y": null,
            "padding": null,
            "right": null,
            "top": null,
            "visibility": null,
            "width": null
          }
        },
        "3f736e5b0a04495ca775e6fcebb2b4fe": {
          "model_module": "@jupyter-widgets/controls",
          "model_name": "ProgressStyleModel",
          "model_module_version": "1.5.0",
          "state": {
            "_model_module": "@jupyter-widgets/controls",
            "_model_module_version": "1.5.0",
            "_model_name": "ProgressStyleModel",
            "_view_count": null,
            "_view_module": "@jupyter-widgets/base",
            "_view_module_version": "1.2.0",
            "_view_name": "StyleView",
            "bar_color": null,
            "description_width": ""
          }
        },
        "364b3bba648e47f2a0e2050c723f9dd5": {
          "model_module": "@jupyter-widgets/base",
          "model_name": "LayoutModel",
          "model_module_version": "1.2.0",
          "state": {
            "_model_module": "@jupyter-widgets/base",
            "_model_module_version": "1.2.0",
            "_model_name": "LayoutModel",
            "_view_count": null,
            "_view_module": "@jupyter-widgets/base",
            "_view_module_version": "1.2.0",
            "_view_name": "LayoutView",
            "align_content": null,
            "align_items": null,
            "align_self": null,
            "border": null,
            "bottom": null,
            "display": null,
            "flex": null,
            "flex_flow": null,
            "grid_area": null,
            "grid_auto_columns": null,
            "grid_auto_flow": null,
            "grid_auto_rows": null,
            "grid_column": null,
            "grid_gap": null,
            "grid_row": null,
            "grid_template_areas": null,
            "grid_template_columns": null,
            "grid_template_rows": null,
            "height": null,
            "justify_content": null,
            "justify_items": null,
            "left": null,
            "margin": null,
            "max_height": null,
            "max_width": null,
            "min_height": null,
            "min_width": null,
            "object_fit": null,
            "object_position": null,
            "order": null,
            "overflow": null,
            "overflow_x": null,
            "overflow_y": null,
            "padding": null,
            "right": null,
            "top": null,
            "visibility": null,
            "width": null
          }
        },
        "284f877050524c27a5f9ab2e13ecae9a": {
          "model_module": "@jupyter-widgets/controls",
          "model_name": "DescriptionStyleModel",
          "model_module_version": "1.5.0",
          "state": {
            "_model_module": "@jupyter-widgets/controls",
            "_model_module_version": "1.5.0",
            "_model_name": "DescriptionStyleModel",
            "_view_count": null,
            "_view_module": "@jupyter-widgets/base",
            "_view_module_version": "1.2.0",
            "_view_name": "StyleView",
            "description_width": ""
          }
        },
        "d76c11236e2d42c1b457f7ec7a0a6fd1": {
          "model_module": "@jupyter-widgets/controls",
          "model_name": "HBoxModel",
          "model_module_version": "1.5.0",
          "state": {
            "_dom_classes": [],
            "_model_module": "@jupyter-widgets/controls",
            "_model_module_version": "1.5.0",
            "_model_name": "HBoxModel",
            "_view_count": null,
            "_view_module": "@jupyter-widgets/controls",
            "_view_module_version": "1.5.0",
            "_view_name": "HBoxView",
            "box_style": "",
            "children": [
              "IPY_MODEL_df4a1ee34d2b49cfbd98e6b3689673a6",
              "IPY_MODEL_40b76570ca674f45b0ae29e72e5efdc5",
              "IPY_MODEL_650f234b611a486b847a89c827c4a8e2"
            ],
            "layout": "IPY_MODEL_4c2c5b24bb614a23a3539b0ece7d9be8"
          }
        },
        "df4a1ee34d2b49cfbd98e6b3689673a6": {
          "model_module": "@jupyter-widgets/controls",
          "model_name": "HTMLModel",
          "model_module_version": "1.5.0",
          "state": {
            "_dom_classes": [],
            "_model_module": "@jupyter-widgets/controls",
            "_model_module_version": "1.5.0",
            "_model_name": "HTMLModel",
            "_view_count": null,
            "_view_module": "@jupyter-widgets/controls",
            "_view_module_version": "1.5.0",
            "_view_name": "HTMLView",
            "description": "",
            "description_tooltip": null,
            "layout": "IPY_MODEL_60634d5f413042deafbfec455d8b2e99",
            "placeholder": "​",
            "style": "IPY_MODEL_727cecbfd70e46da84aba85b549fa870",
            "value": "model.safetensors: 100%"
          }
        },
        "40b76570ca674f45b0ae29e72e5efdc5": {
          "model_module": "@jupyter-widgets/controls",
          "model_name": "FloatProgressModel",
          "model_module_version": "1.5.0",
          "state": {
            "_dom_classes": [],
            "_model_module": "@jupyter-widgets/controls",
            "_model_module_version": "1.5.0",
            "_model_name": "FloatProgressModel",
            "_view_count": null,
            "_view_module": "@jupyter-widgets/controls",
            "_view_module_version": "1.5.0",
            "_view_name": "ProgressView",
            "bar_style": "success",
            "description": "",
            "description_tooltip": null,
            "layout": "IPY_MODEL_409e08ee993d4443952db0c87ae10dfc",
            "max": 444996256,
            "min": 0,
            "orientation": "horizontal",
            "style": "IPY_MODEL_0b1a9e08dce6467a894d2ca6c108dbcd",
            "value": 444996256
          }
        },
        "650f234b611a486b847a89c827c4a8e2": {
          "model_module": "@jupyter-widgets/controls",
          "model_name": "HTMLModel",
          "model_module_version": "1.5.0",
          "state": {
            "_dom_classes": [],
            "_model_module": "@jupyter-widgets/controls",
            "_model_module_version": "1.5.0",
            "_model_name": "HTMLModel",
            "_view_count": null,
            "_view_module": "@jupyter-widgets/controls",
            "_view_module_version": "1.5.0",
            "_view_name": "HTMLView",
            "description": "",
            "description_tooltip": null,
            "layout": "IPY_MODEL_9080199a524942c5b2c99e90c25a32d4",
            "placeholder": "​",
            "style": "IPY_MODEL_1d2c970f88f341288c82363a8f3e2a30",
            "value": " 445M/445M [00:01&lt;00:00, 328MB/s]"
          }
        },
        "4c2c5b24bb614a23a3539b0ece7d9be8": {
          "model_module": "@jupyter-widgets/base",
          "model_name": "LayoutModel",
          "model_module_version": "1.2.0",
          "state": {
            "_model_module": "@jupyter-widgets/base",
            "_model_module_version": "1.2.0",
            "_model_name": "LayoutModel",
            "_view_count": null,
            "_view_module": "@jupyter-widgets/base",
            "_view_module_version": "1.2.0",
            "_view_name": "LayoutView",
            "align_content": null,
            "align_items": null,
            "align_self": null,
            "border": null,
            "bottom": null,
            "display": null,
            "flex": null,
            "flex_flow": null,
            "grid_area": null,
            "grid_auto_columns": null,
            "grid_auto_flow": null,
            "grid_auto_rows": null,
            "grid_column": null,
            "grid_gap": null,
            "grid_row": null,
            "grid_template_areas": null,
            "grid_template_columns": null,
            "grid_template_rows": null,
            "height": null,
            "justify_content": null,
            "justify_items": null,
            "left": null,
            "margin": null,
            "max_height": null,
            "max_width": null,
            "min_height": null,
            "min_width": null,
            "object_fit": null,
            "object_position": null,
            "order": null,
            "overflow": null,
            "overflow_x": null,
            "overflow_y": null,
            "padding": null,
            "right": null,
            "top": null,
            "visibility": null,
            "width": null
          }
        },
        "60634d5f413042deafbfec455d8b2e99": {
          "model_module": "@jupyter-widgets/base",
          "model_name": "LayoutModel",
          "model_module_version": "1.2.0",
          "state": {
            "_model_module": "@jupyter-widgets/base",
            "_model_module_version": "1.2.0",
            "_model_name": "LayoutModel",
            "_view_count": null,
            "_view_module": "@jupyter-widgets/base",
            "_view_module_version": "1.2.0",
            "_view_name": "LayoutView",
            "align_content": null,
            "align_items": null,
            "align_self": null,
            "border": null,
            "bottom": null,
            "display": null,
            "flex": null,
            "flex_flow": null,
            "grid_area": null,
            "grid_auto_columns": null,
            "grid_auto_flow": null,
            "grid_auto_rows": null,
            "grid_column": null,
            "grid_gap": null,
            "grid_row": null,
            "grid_template_areas": null,
            "grid_template_columns": null,
            "grid_template_rows": null,
            "height": null,
            "justify_content": null,
            "justify_items": null,
            "left": null,
            "margin": null,
            "max_height": null,
            "max_width": null,
            "min_height": null,
            "min_width": null,
            "object_fit": null,
            "object_position": null,
            "order": null,
            "overflow": null,
            "overflow_x": null,
            "overflow_y": null,
            "padding": null,
            "right": null,
            "top": null,
            "visibility": null,
            "width": null
          }
        },
        "727cecbfd70e46da84aba85b549fa870": {
          "model_module": "@jupyter-widgets/controls",
          "model_name": "DescriptionStyleModel",
          "model_module_version": "1.5.0",
          "state": {
            "_model_module": "@jupyter-widgets/controls",
            "_model_module_version": "1.5.0",
            "_model_name": "DescriptionStyleModel",
            "_view_count": null,
            "_view_module": "@jupyter-widgets/base",
            "_view_module_version": "1.2.0",
            "_view_name": "StyleView",
            "description_width": ""
          }
        },
        "409e08ee993d4443952db0c87ae10dfc": {
          "model_module": "@jupyter-widgets/base",
          "model_name": "LayoutModel",
          "model_module_version": "1.2.0",
          "state": {
            "_model_module": "@jupyter-widgets/base",
            "_model_module_version": "1.2.0",
            "_model_name": "LayoutModel",
            "_view_count": null,
            "_view_module": "@jupyter-widgets/base",
            "_view_module_version": "1.2.0",
            "_view_name": "LayoutView",
            "align_content": null,
            "align_items": null,
            "align_self": null,
            "border": null,
            "bottom": null,
            "display": null,
            "flex": null,
            "flex_flow": null,
            "grid_area": null,
            "grid_auto_columns": null,
            "grid_auto_flow": null,
            "grid_auto_rows": null,
            "grid_column": null,
            "grid_gap": null,
            "grid_row": null,
            "grid_template_areas": null,
            "grid_template_columns": null,
            "grid_template_rows": null,
            "height": null,
            "justify_content": null,
            "justify_items": null,
            "left": null,
            "margin": null,
            "max_height": null,
            "max_width": null,
            "min_height": null,
            "min_width": null,
            "object_fit": null,
            "object_position": null,
            "order": null,
            "overflow": null,
            "overflow_x": null,
            "overflow_y": null,
            "padding": null,
            "right": null,
            "top": null,
            "visibility": null,
            "width": null
          }
        },
        "0b1a9e08dce6467a894d2ca6c108dbcd": {
          "model_module": "@jupyter-widgets/controls",
          "model_name": "ProgressStyleModel",
          "model_module_version": "1.5.0",
          "state": {
            "_model_module": "@jupyter-widgets/controls",
            "_model_module_version": "1.5.0",
            "_model_name": "ProgressStyleModel",
            "_view_count": null,
            "_view_module": "@jupyter-widgets/base",
            "_view_module_version": "1.2.0",
            "_view_name": "StyleView",
            "bar_color": null,
            "description_width": ""
          }
        },
        "9080199a524942c5b2c99e90c25a32d4": {
          "model_module": "@jupyter-widgets/base",
          "model_name": "LayoutModel",
          "model_module_version": "1.2.0",
          "state": {
            "_model_module": "@jupyter-widgets/base",
            "_model_module_version": "1.2.0",
            "_model_name": "LayoutModel",
            "_view_count": null,
            "_view_module": "@jupyter-widgets/base",
            "_view_module_version": "1.2.0",
            "_view_name": "LayoutView",
            "align_content": null,
            "align_items": null,
            "align_self": null,
            "border": null,
            "bottom": null,
            "display": null,
            "flex": null,
            "flex_flow": null,
            "grid_area": null,
            "grid_auto_columns": null,
            "grid_auto_flow": null,
            "grid_auto_rows": null,
            "grid_column": null,
            "grid_gap": null,
            "grid_row": null,
            "grid_template_areas": null,
            "grid_template_columns": null,
            "grid_template_rows": null,
            "height": null,
            "justify_content": null,
            "justify_items": null,
            "left": null,
            "margin": null,
            "max_height": null,
            "max_width": null,
            "min_height": null,
            "min_width": null,
            "object_fit": null,
            "object_position": null,
            "order": null,
            "overflow": null,
            "overflow_x": null,
            "overflow_y": null,
            "padding": null,
            "right": null,
            "top": null,
            "visibility": null,
            "width": null
          }
        },
        "1d2c970f88f341288c82363a8f3e2a30": {
          "model_module": "@jupyter-widgets/controls",
          "model_name": "DescriptionStyleModel",
          "model_module_version": "1.5.0",
          "state": {
            "_model_module": "@jupyter-widgets/controls",
            "_model_module_version": "1.5.0",
            "_model_name": "DescriptionStyleModel",
            "_view_count": null,
            "_view_module": "@jupyter-widgets/base",
            "_view_module_version": "1.2.0",
            "_view_name": "StyleView",
            "description_width": ""
          }
        }
      }
    }
  },
  "cells": [
    {
      "cell_type": "code",
      "execution_count": null,
      "metadata": {
        "colab": {
          "base_uri": "https://localhost:8080/"
        },
        "id": "3c2Z2fWmmvnF",
        "outputId": "8cbbbad1-0686-4954-94e6-ea1037b86b04"
      },
      "outputs": [
        {
          "output_type": "stream",
          "name": "stdout",
          "text": [
            "Mounted at /content/drive\n"
          ]
        }
      ],
      "source": [
        "from google.colab import drive\n",
        "drive.mount('/content/drive', force_remount=True)\n",
        "\n"
      ]
    },
    {
      "cell_type": "code",
      "source": [
        "import os\n",
        "\n",
        "# 'problem' klasörünün içeriğini listeleyelim\n",
        "os.listdir('/content/drive/MyDrive/hata/ALT REASON/ÜRÜN YANLIŞ')\n"
      ],
      "metadata": {
        "id": "fNN-X06EopqB",
        "colab": {
          "base_uri": "https://localhost:8080/"
        },
        "outputId": "9d3f8e7e-18a3-4105-84ca-566b6a33069e"
      },
      "execution_count": null,
      "outputs": [
        {
          "output_type": "execute_result",
          "data": {
            "text/plain": [
              "['urunazAltR.ipynb', 'urunyanlis_altr.xlsx']"
            ]
          },
          "metadata": {},
          "execution_count": 9
        }
      ]
    },
    {
      "cell_type": "code",
      "source": [
        "import pandas as pd\n",
        "from torch.optim import AdamW\n",
        "import torch\n",
        "from transformers import AutoTokenizer\n",
        "from transformers import AutoModelForSequenceClassification\n",
        "from transformers import get_linear_schedule_with_warmup\n",
        "from sklearn.model_selection import train_test_split\n",
        "from sklearn.preprocessing import LabelEncoder\n",
        "from torch.utils.data import DataLoader, TensorDataset\n",
        "from sklearn.metrics import accuracy_score, confusion_matrix\n",
        "import seaborn as sns\n",
        "import matplotlib.pyplot as plt\n",
        "from torch.utils.tensorboard import SummaryWriter\n",
        "import numpy as np"
      ],
      "metadata": {
        "id": "6zBEPttabVB8"
      },
      "execution_count": null,
      "outputs": []
    },
    {
      "cell_type": "code",
      "source": [
        "file_path='/content/drive/MyDrive/hata/ALT REASON/ÜRÜN YANLIŞ/urunyanlis_altr.xlsx'\n",
        "df = pd.read_excel(file_path)\n"
      ],
      "metadata": {
        "id": "afsjr8eYbXVw"
      },
      "execution_count": null,
      "outputs": []
    },
    {
      "cell_type": "code",
      "source": [
        "df.head()\n",
        "nan_rows = df[df[\"MAP\"].isna()]\n",
        "nan_rows = df[df[\"Yorum\"].isna()]\n",
        "\n",
        "print(nan_rows)"
      ],
      "metadata": {
        "colab": {
          "base_uri": "https://localhost:8080/"
        },
        "id": "t9bJDnmTbuT2",
        "outputId": "fbef0f49-2462-4f06-a2e8-e9462762b390"
      },
      "execution_count": null,
      "outputs": [
        {
          "output_type": "stream",
          "name": "stdout",
          "text": [
            "Empty DataFrame\n",
            "Columns: [Müşteri Reasonı, Yorum, MAP]\n",
            "Index: []\n"
          ]
        }
      ]
    },
    {
      "cell_type": "code",
      "source": [
        "df.info()"
      ],
      "metadata": {
        "colab": {
          "base_uri": "https://localhost:8080/"
        },
        "id": "hy2NxfgNb6Fv",
        "outputId": "097b5a90-70a4-4993-fe04-a09f8d8ac77f"
      },
      "execution_count": null,
      "outputs": [
        {
          "output_type": "stream",
          "name": "stdout",
          "text": [
            "<class 'pandas.core.frame.DataFrame'>\n",
            "RangeIndex: 2811 entries, 0 to 2810\n",
            "Data columns (total 3 columns):\n",
            " #   Column           Non-Null Count  Dtype \n",
            "---  ------           --------------  ----- \n",
            " 0   Müşteri Reasonı  2811 non-null   object\n",
            " 1   Yorum            2811 non-null   object\n",
            " 2   MAP              2811 non-null   object\n",
            "dtypes: object(3)\n",
            "memory usage: 66.0+ KB\n"
          ]
        }
      ]
    },
    {
      "cell_type": "code",
      "source": [
        "df = df[['Yorum', 'MAP']]\n",
        "df.info()"
      ],
      "metadata": {
        "colab": {
          "base_uri": "https://localhost:8080/"
        },
        "id": "ZHHE-KPQcCU2",
        "outputId": "69743a61-cfd2-4ff7-9eeb-50af9c775b21"
      },
      "execution_count": null,
      "outputs": [
        {
          "output_type": "stream",
          "name": "stdout",
          "text": [
            "<class 'pandas.core.frame.DataFrame'>\n",
            "RangeIndex: 2811 entries, 0 to 2810\n",
            "Data columns (total 2 columns):\n",
            " #   Column  Non-Null Count  Dtype \n",
            "---  ------  --------------  ----- \n",
            " 0   Yorum   2811 non-null   object\n",
            " 1   MAP     2811 non-null   object\n",
            "dtypes: object(2)\n",
            "memory usage: 44.1+ KB\n"
          ]
        }
      ]
    },
    {
      "cell_type": "code",
      "source": [
        "df.info()"
      ],
      "metadata": {
        "colab": {
          "base_uri": "https://localhost:8080/"
        },
        "id": "FWwJbu-ncNA3",
        "outputId": "a649e540-f621-4651-ae78-12ad8632b7f7"
      },
      "execution_count": null,
      "outputs": [
        {
          "output_type": "stream",
          "name": "stdout",
          "text": [
            "<class 'pandas.core.frame.DataFrame'>\n",
            "RangeIndex: 2811 entries, 0 to 2810\n",
            "Data columns (total 2 columns):\n",
            " #   Column  Non-Null Count  Dtype \n",
            "---  ------  --------------  ----- \n",
            " 0   Yorum   2811 non-null   object\n",
            " 1   MAP     2811 non-null   object\n",
            "dtypes: object(2)\n",
            "memory usage: 44.1+ KB\n"
          ]
        }
      ]
    },
    {
      "cell_type": "code",
      "source": [
        "df.duplicated().sum()"
      ],
      "metadata": {
        "colab": {
          "base_uri": "https://localhost:8080/"
        },
        "id": "97B_s1OMcN-G",
        "outputId": "c33a6bce-52d0-441a-88f3-a8ac5841ddb4"
      },
      "execution_count": null,
      "outputs": [
        {
          "output_type": "execute_result",
          "data": {
            "text/plain": [
              "np.int64(18)"
            ]
          },
          "metadata": {},
          "execution_count": 16
        }
      ]
    },
    {
      "cell_type": "code",
      "source": [
        "df[df.duplicated()]\n"
      ],
      "metadata": {
        "colab": {
          "base_uri": "https://localhost:8080/",
          "height": 614
        },
        "id": "N2_8cBd5cSrj",
        "outputId": "d33ec515-36fb-4f7d-fd39-801da69bcf30"
      },
      "execution_count": null,
      "outputs": [
        {
          "output_type": "execute_result",
          "data": {
            "text/plain": [
              "                                                  Yorum  \\\n",
              "133   2 alışverişimde yanlış gönderildi. 36 numara a...   \n",
              "135   Numarası Yanlış gönderildi ben de iade ettim. ...   \n",
              "137   Aldığım üründen farklı markada bir ürün geldi....   \n",
              "138   3 ürün gelmesi 2 ürün gönderildi. Daha sonra e...   \n",
              "271   1+1 ayakkabı kampanyasından 2 çift sipariş ett...   \n",
              "561   Sneaker sipariş ettim, alakasız bir modelde kl...   \n",
              "585   Spor ayakkabı sipariş ettim, ama bir bere gönd...   \n",
              "587   Sneaker sipariş etmiştim, yerine bir kolye gel...   \n",
              "590   Kışlık ayakkabı sipariş ettim, yerine bir şapk...   \n",
              "595   Sneaker sipariş ettim, ama bir ceket gönderild...   \n",
              "597   Kışlık bot sipariş ettim, yerine bir bere geld...   \n",
              "599   Spor ayakkabı sipariş ettim, ama bir kemer gön...   \n",
              "630   Spor ayakkabı beklerken klasik kadın ayakkabıs...   \n",
              "1016  Aynı model diye aldım ama gelen ürün farklı ta...   \n",
              "1783  XS beden parmak arası terlik sipariş ettim, S ...   \n",
              "1799  Aldığım ayakkabı 37 numaraydı ama gelen ürün h...   \n",
              "2236  Sipariş ettiğim ayakkabıların bir teki kadın, ...   \n",
              "2792  Siyah çizme sipariş ettim, bordo geldi. Kışlık...   \n",
              "\n",
              "                                                  MAP  \n",
              "133               Ürün yanlış numara/beden gönderildi  \n",
              "135               Ürün yanlış numara/beden gönderildi  \n",
              "137        Farklı markaya ait farklı ürün gönderildi​  \n",
              "138                             Eksik ürün gönderildi  \n",
              "271                             Eksik ürün gönderildi  \n",
              "561           Farklı kategoriden bir ürün gönderildi​  \n",
              "585           Farklı kategoriden bir ürün gönderildi​  \n",
              "587           Farklı kategoriden bir ürün gönderildi​  \n",
              "590           Farklı kategoriden bir ürün gönderildi​  \n",
              "595           Farklı kategoriden bir ürün gönderildi​  \n",
              "597           Farklı kategoriden bir ürün gönderildi​  \n",
              "599           Farklı kategoriden bir ürün gönderildi​  \n",
              "630           Farklı kategoriden bir ürün gönderildi​  \n",
              "1016                     Farklı model ürün gönderildi  \n",
              "1783              Ürün yanlış numara/beden gönderildi  \n",
              "1799              Ürün yanlış numara/beden gönderildi  \n",
              "2236  Ürünümün iki teki birbirinden farklıydı/aynıydı  \n",
              "2792                     Ürün yanlış renk gönderildi​  "
            ],
            "text/html": [
              "\n",
              "  <div id=\"df-5040328e-64d8-47df-bf4d-b68b4c11e66f\" class=\"colab-df-container\">\n",
              "    <div>\n",
              "<style scoped>\n",
              "    .dataframe tbody tr th:only-of-type {\n",
              "        vertical-align: middle;\n",
              "    }\n",
              "\n",
              "    .dataframe tbody tr th {\n",
              "        vertical-align: top;\n",
              "    }\n",
              "\n",
              "    .dataframe thead th {\n",
              "        text-align: right;\n",
              "    }\n",
              "</style>\n",
              "<table border=\"1\" class=\"dataframe\">\n",
              "  <thead>\n",
              "    <tr style=\"text-align: right;\">\n",
              "      <th></th>\n",
              "      <th>Yorum</th>\n",
              "      <th>MAP</th>\n",
              "    </tr>\n",
              "  </thead>\n",
              "  <tbody>\n",
              "    <tr>\n",
              "      <th>133</th>\n",
              "      <td>2 alışverişimde yanlış gönderildi. 36 numara a...</td>\n",
              "      <td>Ürün yanlış numara/beden gönderildi</td>\n",
              "    </tr>\n",
              "    <tr>\n",
              "      <th>135</th>\n",
              "      <td>Numarası Yanlış gönderildi ben de iade ettim. ...</td>\n",
              "      <td>Ürün yanlış numara/beden gönderildi</td>\n",
              "    </tr>\n",
              "    <tr>\n",
              "      <th>137</th>\n",
              "      <td>Aldığım üründen farklı markada bir ürün geldi....</td>\n",
              "      <td>Farklı markaya ait farklı ürün gönderildi​</td>\n",
              "    </tr>\n",
              "    <tr>\n",
              "      <th>138</th>\n",
              "      <td>3 ürün gelmesi 2 ürün gönderildi. Daha sonra e...</td>\n",
              "      <td>Eksik ürün gönderildi</td>\n",
              "    </tr>\n",
              "    <tr>\n",
              "      <th>271</th>\n",
              "      <td>1+1 ayakkabı kampanyasından 2 çift sipariş ett...</td>\n",
              "      <td>Eksik ürün gönderildi</td>\n",
              "    </tr>\n",
              "    <tr>\n",
              "      <th>561</th>\n",
              "      <td>Sneaker sipariş ettim, alakasız bir modelde kl...</td>\n",
              "      <td>Farklı kategoriden bir ürün gönderildi​</td>\n",
              "    </tr>\n",
              "    <tr>\n",
              "      <th>585</th>\n",
              "      <td>Spor ayakkabı sipariş ettim, ama bir bere gönd...</td>\n",
              "      <td>Farklı kategoriden bir ürün gönderildi​</td>\n",
              "    </tr>\n",
              "    <tr>\n",
              "      <th>587</th>\n",
              "      <td>Sneaker sipariş etmiştim, yerine bir kolye gel...</td>\n",
              "      <td>Farklı kategoriden bir ürün gönderildi​</td>\n",
              "    </tr>\n",
              "    <tr>\n",
              "      <th>590</th>\n",
              "      <td>Kışlık ayakkabı sipariş ettim, yerine bir şapk...</td>\n",
              "      <td>Farklı kategoriden bir ürün gönderildi​</td>\n",
              "    </tr>\n",
              "    <tr>\n",
              "      <th>595</th>\n",
              "      <td>Sneaker sipariş ettim, ama bir ceket gönderild...</td>\n",
              "      <td>Farklı kategoriden bir ürün gönderildi​</td>\n",
              "    </tr>\n",
              "    <tr>\n",
              "      <th>597</th>\n",
              "      <td>Kışlık bot sipariş ettim, yerine bir bere geld...</td>\n",
              "      <td>Farklı kategoriden bir ürün gönderildi​</td>\n",
              "    </tr>\n",
              "    <tr>\n",
              "      <th>599</th>\n",
              "      <td>Spor ayakkabı sipariş ettim, ama bir kemer gön...</td>\n",
              "      <td>Farklı kategoriden bir ürün gönderildi​</td>\n",
              "    </tr>\n",
              "    <tr>\n",
              "      <th>630</th>\n",
              "      <td>Spor ayakkabı beklerken klasik kadın ayakkabıs...</td>\n",
              "      <td>Farklı kategoriden bir ürün gönderildi​</td>\n",
              "    </tr>\n",
              "    <tr>\n",
              "      <th>1016</th>\n",
              "      <td>Aynı model diye aldım ama gelen ürün farklı ta...</td>\n",
              "      <td>Farklı model ürün gönderildi</td>\n",
              "    </tr>\n",
              "    <tr>\n",
              "      <th>1783</th>\n",
              "      <td>XS beden parmak arası terlik sipariş ettim, S ...</td>\n",
              "      <td>Ürün yanlış numara/beden gönderildi</td>\n",
              "    </tr>\n",
              "    <tr>\n",
              "      <th>1799</th>\n",
              "      <td>Aldığım ayakkabı 37 numaraydı ama gelen ürün h...</td>\n",
              "      <td>Ürün yanlış numara/beden gönderildi</td>\n",
              "    </tr>\n",
              "    <tr>\n",
              "      <th>2236</th>\n",
              "      <td>Sipariş ettiğim ayakkabıların bir teki kadın, ...</td>\n",
              "      <td>Ürünümün iki teki birbirinden farklıydı/aynıydı</td>\n",
              "    </tr>\n",
              "    <tr>\n",
              "      <th>2792</th>\n",
              "      <td>Siyah çizme sipariş ettim, bordo geldi. Kışlık...</td>\n",
              "      <td>Ürün yanlış renk gönderildi​</td>\n",
              "    </tr>\n",
              "  </tbody>\n",
              "</table>\n",
              "</div>\n",
              "    <div class=\"colab-df-buttons\">\n",
              "\n",
              "  <div class=\"colab-df-container\">\n",
              "    <button class=\"colab-df-convert\" onclick=\"convertToInteractive('df-5040328e-64d8-47df-bf4d-b68b4c11e66f')\"\n",
              "            title=\"Convert this dataframe to an interactive table.\"\n",
              "            style=\"display:none;\">\n",
              "\n",
              "  <svg xmlns=\"http://www.w3.org/2000/svg\" height=\"24px\" viewBox=\"0 -960 960 960\">\n",
              "    <path d=\"M120-120v-720h720v720H120Zm60-500h600v-160H180v160Zm220 220h160v-160H400v160Zm0 220h160v-160H400v160ZM180-400h160v-160H180v160Zm440 0h160v-160H620v160ZM180-180h160v-160H180v160Zm440 0h160v-160H620v160Z\"/>\n",
              "  </svg>\n",
              "    </button>\n",
              "\n",
              "  <style>\n",
              "    .colab-df-container {\n",
              "      display:flex;\n",
              "      gap: 12px;\n",
              "    }\n",
              "\n",
              "    .colab-df-convert {\n",
              "      background-color: #E8F0FE;\n",
              "      border: none;\n",
              "      border-radius: 50%;\n",
              "      cursor: pointer;\n",
              "      display: none;\n",
              "      fill: #1967D2;\n",
              "      height: 32px;\n",
              "      padding: 0 0 0 0;\n",
              "      width: 32px;\n",
              "    }\n",
              "\n",
              "    .colab-df-convert:hover {\n",
              "      background-color: #E2EBFA;\n",
              "      box-shadow: 0px 1px 2px rgba(60, 64, 67, 0.3), 0px 1px 3px 1px rgba(60, 64, 67, 0.15);\n",
              "      fill: #174EA6;\n",
              "    }\n",
              "\n",
              "    .colab-df-buttons div {\n",
              "      margin-bottom: 4px;\n",
              "    }\n",
              "\n",
              "    [theme=dark] .colab-df-convert {\n",
              "      background-color: #3B4455;\n",
              "      fill: #D2E3FC;\n",
              "    }\n",
              "\n",
              "    [theme=dark] .colab-df-convert:hover {\n",
              "      background-color: #434B5C;\n",
              "      box-shadow: 0px 1px 3px 1px rgba(0, 0, 0, 0.15);\n",
              "      filter: drop-shadow(0px 1px 2px rgba(0, 0, 0, 0.3));\n",
              "      fill: #FFFFFF;\n",
              "    }\n",
              "  </style>\n",
              "\n",
              "    <script>\n",
              "      const buttonEl =\n",
              "        document.querySelector('#df-5040328e-64d8-47df-bf4d-b68b4c11e66f button.colab-df-convert');\n",
              "      buttonEl.style.display =\n",
              "        google.colab.kernel.accessAllowed ? 'block' : 'none';\n",
              "\n",
              "      async function convertToInteractive(key) {\n",
              "        const element = document.querySelector('#df-5040328e-64d8-47df-bf4d-b68b4c11e66f');\n",
              "        const dataTable =\n",
              "          await google.colab.kernel.invokeFunction('convertToInteractive',\n",
              "                                                    [key], {});\n",
              "        if (!dataTable) return;\n",
              "\n",
              "        const docLinkHtml = 'Like what you see? Visit the ' +\n",
              "          '<a target=\"_blank\" href=https://colab.research.google.com/notebooks/data_table.ipynb>data table notebook</a>'\n",
              "          + ' to learn more about interactive tables.';\n",
              "        element.innerHTML = '';\n",
              "        dataTable['output_type'] = 'display_data';\n",
              "        await google.colab.output.renderOutput(dataTable, element);\n",
              "        const docLink = document.createElement('div');\n",
              "        docLink.innerHTML = docLinkHtml;\n",
              "        element.appendChild(docLink);\n",
              "      }\n",
              "    </script>\n",
              "  </div>\n",
              "\n",
              "\n",
              "    <div id=\"df-b502fc50-2129-4f6d-8e86-98509fd8081e\">\n",
              "      <button class=\"colab-df-quickchart\" onclick=\"quickchart('df-b502fc50-2129-4f6d-8e86-98509fd8081e')\"\n",
              "                title=\"Suggest charts\"\n",
              "                style=\"display:none;\">\n",
              "\n",
              "<svg xmlns=\"http://www.w3.org/2000/svg\" height=\"24px\"viewBox=\"0 0 24 24\"\n",
              "     width=\"24px\">\n",
              "    <g>\n",
              "        <path d=\"M19 3H5c-1.1 0-2 .9-2 2v14c0 1.1.9 2 2 2h14c1.1 0 2-.9 2-2V5c0-1.1-.9-2-2-2zM9 17H7v-7h2v7zm4 0h-2V7h2v10zm4 0h-2v-4h2v4z\"/>\n",
              "    </g>\n",
              "</svg>\n",
              "      </button>\n",
              "\n",
              "<style>\n",
              "  .colab-df-quickchart {\n",
              "      --bg-color: #E8F0FE;\n",
              "      --fill-color: #1967D2;\n",
              "      --hover-bg-color: #E2EBFA;\n",
              "      --hover-fill-color: #174EA6;\n",
              "      --disabled-fill-color: #AAA;\n",
              "      --disabled-bg-color: #DDD;\n",
              "  }\n",
              "\n",
              "  [theme=dark] .colab-df-quickchart {\n",
              "      --bg-color: #3B4455;\n",
              "      --fill-color: #D2E3FC;\n",
              "      --hover-bg-color: #434B5C;\n",
              "      --hover-fill-color: #FFFFFF;\n",
              "      --disabled-bg-color: #3B4455;\n",
              "      --disabled-fill-color: #666;\n",
              "  }\n",
              "\n",
              "  .colab-df-quickchart {\n",
              "    background-color: var(--bg-color);\n",
              "    border: none;\n",
              "    border-radius: 50%;\n",
              "    cursor: pointer;\n",
              "    display: none;\n",
              "    fill: var(--fill-color);\n",
              "    height: 32px;\n",
              "    padding: 0;\n",
              "    width: 32px;\n",
              "  }\n",
              "\n",
              "  .colab-df-quickchart:hover {\n",
              "    background-color: var(--hover-bg-color);\n",
              "    box-shadow: 0 1px 2px rgba(60, 64, 67, 0.3), 0 1px 3px 1px rgba(60, 64, 67, 0.15);\n",
              "    fill: var(--button-hover-fill-color);\n",
              "  }\n",
              "\n",
              "  .colab-df-quickchart-complete:disabled,\n",
              "  .colab-df-quickchart-complete:disabled:hover {\n",
              "    background-color: var(--disabled-bg-color);\n",
              "    fill: var(--disabled-fill-color);\n",
              "    box-shadow: none;\n",
              "  }\n",
              "\n",
              "  .colab-df-spinner {\n",
              "    border: 2px solid var(--fill-color);\n",
              "    border-color: transparent;\n",
              "    border-bottom-color: var(--fill-color);\n",
              "    animation:\n",
              "      spin 1s steps(1) infinite;\n",
              "  }\n",
              "\n",
              "  @keyframes spin {\n",
              "    0% {\n",
              "      border-color: transparent;\n",
              "      border-bottom-color: var(--fill-color);\n",
              "      border-left-color: var(--fill-color);\n",
              "    }\n",
              "    20% {\n",
              "      border-color: transparent;\n",
              "      border-left-color: var(--fill-color);\n",
              "      border-top-color: var(--fill-color);\n",
              "    }\n",
              "    30% {\n",
              "      border-color: transparent;\n",
              "      border-left-color: var(--fill-color);\n",
              "      border-top-color: var(--fill-color);\n",
              "      border-right-color: var(--fill-color);\n",
              "    }\n",
              "    40% {\n",
              "      border-color: transparent;\n",
              "      border-right-color: var(--fill-color);\n",
              "      border-top-color: var(--fill-color);\n",
              "    }\n",
              "    60% {\n",
              "      border-color: transparent;\n",
              "      border-right-color: var(--fill-color);\n",
              "    }\n",
              "    80% {\n",
              "      border-color: transparent;\n",
              "      border-right-color: var(--fill-color);\n",
              "      border-bottom-color: var(--fill-color);\n",
              "    }\n",
              "    90% {\n",
              "      border-color: transparent;\n",
              "      border-bottom-color: var(--fill-color);\n",
              "    }\n",
              "  }\n",
              "</style>\n",
              "\n",
              "      <script>\n",
              "        async function quickchart(key) {\n",
              "          const quickchartButtonEl =\n",
              "            document.querySelector('#' + key + ' button');\n",
              "          quickchartButtonEl.disabled = true;  // To prevent multiple clicks.\n",
              "          quickchartButtonEl.classList.add('colab-df-spinner');\n",
              "          try {\n",
              "            const charts = await google.colab.kernel.invokeFunction(\n",
              "                'suggestCharts', [key], {});\n",
              "          } catch (error) {\n",
              "            console.error('Error during call to suggestCharts:', error);\n",
              "          }\n",
              "          quickchartButtonEl.classList.remove('colab-df-spinner');\n",
              "          quickchartButtonEl.classList.add('colab-df-quickchart-complete');\n",
              "        }\n",
              "        (() => {\n",
              "          let quickchartButtonEl =\n",
              "            document.querySelector('#df-b502fc50-2129-4f6d-8e86-98509fd8081e button');\n",
              "          quickchartButtonEl.style.display =\n",
              "            google.colab.kernel.accessAllowed ? 'block' : 'none';\n",
              "        })();\n",
              "      </script>\n",
              "    </div>\n",
              "\n",
              "    </div>\n",
              "  </div>\n"
            ],
            "application/vnd.google.colaboratory.intrinsic+json": {
              "type": "dataframe",
              "summary": "{\n  \"name\": \"df[df\",\n  \"rows\": 18,\n  \"fields\": [\n    {\n      \"column\": \"Yorum\",\n      \"properties\": {\n        \"dtype\": \"string\",\n        \"num_unique_values\": 18,\n        \"samples\": [\n          \"2 al\\u0131\\u015fveri\\u015fimde yanl\\u0131\\u015f g\\u00f6nderildi. 36 numara ald\\u0131m 39 numara g\\u00f6nderildi. \\u00c7ok sinirlendim. Memnun kalmad\\u0131m. \\u0130ade edece\\u011fim. \\u00d6nceki al\\u0131\\u015fveri\\u015fimde de iki sa\\u011f tek g\\u00f6nderildi. \\u0130ade ettim.\",\n          \"Numaras\\u0131 Yanl\\u0131\\u015f g\\u00f6nderildi ben de iade ettim. \\u0130ademi sorunsuz ger\\u00e7ekle\\u015ftirdim sadece iade s\\u00fcresi u\\u011fra\\u015ft\\u0131rd\\u0131\",\n          \"K\\u0131\\u015fl\\u0131k ayakkab\\u0131 sipari\\u015f ettim, yerine bir \\u015fapka g\\u00f6nderildi. M\\u00fc\\u015fteri hizmetlerine \\u015fikayet ettim, ama bu hata sinir bozucu.\"\n        ],\n        \"semantic_type\": \"\",\n        \"description\": \"\"\n      }\n    },\n    {\n      \"column\": \"MAP\",\n      \"properties\": {\n        \"dtype\": \"category\",\n        \"num_unique_values\": 7,\n        \"samples\": [\n          \"\\u00dcr\\u00fcn yanl\\u0131\\u015f numara/beden g\\u00f6nderildi\",\n          \"Farkl\\u0131 markaya ait farkl\\u0131 \\u00fcr\\u00fcn g\\u00f6nderildi\\u200b\",\n          \"\\u00dcr\\u00fcn\\u00fcm\\u00fcn iki teki birbirinden farkl\\u0131yd\\u0131/ayn\\u0131yd\\u0131\"\n        ],\n        \"semantic_type\": \"\",\n        \"description\": \"\"\n      }\n    }\n  ]\n}"
            }
          },
          "metadata": {},
          "execution_count": 17
        }
      ]
    },
    {
      "cell_type": "code",
      "source": [
        "df[\"MAP\"].value_counts()"
      ],
      "metadata": {
        "colab": {
          "base_uri": "https://localhost:8080/",
          "height": 460
        },
        "id": "ukL2Dc_dcVSO",
        "outputId": "83f446ce-7788-40a7-c689-75095c6a5328"
      },
      "execution_count": null,
      "outputs": [
        {
          "output_type": "execute_result",
          "data": {
            "text/plain": [
              "MAP\n",
              "Farklı kategoriden bir ürün gönderildi​            259\n",
              "Ürünüm defolu geldi                                259\n",
              "Ürünümün kalitesinden memnun kalmadım              258\n",
              "Eksik ürün gönderildi                              257\n",
              "Farklı markaya ait farklı ürün gönderildi​         255\n",
              "Müşteri temsilcisi yardımcı olmadı                 255\n",
              "Ürün yanlış numara/beden gönderildi                255\n",
              "Farklı model ürün gönderildi                       254\n",
              "Ürün yanlış renk gönderildi​                       253\n",
              "Kalıbı küçüktü/büyüktü                             253\n",
              "Ürünümün iki teki birbirinden farklıydı/aynıydı    253\n",
              "Name: count, dtype: int64"
            ],
            "text/html": [
              "<div>\n",
              "<style scoped>\n",
              "    .dataframe tbody tr th:only-of-type {\n",
              "        vertical-align: middle;\n",
              "    }\n",
              "\n",
              "    .dataframe tbody tr th {\n",
              "        vertical-align: top;\n",
              "    }\n",
              "\n",
              "    .dataframe thead th {\n",
              "        text-align: right;\n",
              "    }\n",
              "</style>\n",
              "<table border=\"1\" class=\"dataframe\">\n",
              "  <thead>\n",
              "    <tr style=\"text-align: right;\">\n",
              "      <th></th>\n",
              "      <th>count</th>\n",
              "    </tr>\n",
              "    <tr>\n",
              "      <th>MAP</th>\n",
              "      <th></th>\n",
              "    </tr>\n",
              "  </thead>\n",
              "  <tbody>\n",
              "    <tr>\n",
              "      <th>Farklı kategoriden bir ürün gönderildi​</th>\n",
              "      <td>259</td>\n",
              "    </tr>\n",
              "    <tr>\n",
              "      <th>Ürünüm defolu geldi</th>\n",
              "      <td>259</td>\n",
              "    </tr>\n",
              "    <tr>\n",
              "      <th>Ürünümün kalitesinden memnun kalmadım</th>\n",
              "      <td>258</td>\n",
              "    </tr>\n",
              "    <tr>\n",
              "      <th>Eksik ürün gönderildi</th>\n",
              "      <td>257</td>\n",
              "    </tr>\n",
              "    <tr>\n",
              "      <th>Farklı markaya ait farklı ürün gönderildi​</th>\n",
              "      <td>255</td>\n",
              "    </tr>\n",
              "    <tr>\n",
              "      <th>Müşteri temsilcisi yardımcı olmadı</th>\n",
              "      <td>255</td>\n",
              "    </tr>\n",
              "    <tr>\n",
              "      <th>Ürün yanlış numara/beden gönderildi</th>\n",
              "      <td>255</td>\n",
              "    </tr>\n",
              "    <tr>\n",
              "      <th>Farklı model ürün gönderildi</th>\n",
              "      <td>254</td>\n",
              "    </tr>\n",
              "    <tr>\n",
              "      <th>Ürün yanlış renk gönderildi​</th>\n",
              "      <td>253</td>\n",
              "    </tr>\n",
              "    <tr>\n",
              "      <th>Kalıbı küçüktü/büyüktü</th>\n",
              "      <td>253</td>\n",
              "    </tr>\n",
              "    <tr>\n",
              "      <th>Ürünümün iki teki birbirinden farklıydı/aynıydı</th>\n",
              "      <td>253</td>\n",
              "    </tr>\n",
              "  </tbody>\n",
              "</table>\n",
              "</div><br><label><b>dtype:</b> int64</label>"
            ]
          },
          "metadata": {},
          "execution_count": 18
        }
      ]
    },
    {
      "cell_type": "code",
      "source": [
        "label_encoder = LabelEncoder()\n",
        "labels = label_encoder.fit_transform(df['MAP'].values)\n"
      ],
      "metadata": {
        "id": "_eltui9kcYlF"
      },
      "execution_count": null,
      "outputs": []
    },
    {
      "cell_type": "code",
      "source": [
        "label_encoder.classes_"
      ],
      "metadata": {
        "colab": {
          "base_uri": "https://localhost:8080/"
        },
        "id": "bRKCKneBcePs",
        "outputId": "22409159-40f7-4044-dd5e-c9d0febf98d0"
      },
      "execution_count": null,
      "outputs": [
        {
          "output_type": "execute_result",
          "data": {
            "text/plain": [
              "array(['Eksik ürün gönderildi',\n",
              "       'Farklı kategoriden bir ürün gönderildi\\u200b',\n",
              "       'Farklı markaya ait farklı ürün gönderildi\\u200b',\n",
              "       'Farklı model ürün gönderildi', 'Kalıbı küçüktü/büyüktü',\n",
              "       'Müşteri temsilcisi yardımcı olmadı',\n",
              "       'Ürün yanlış numara/beden gönderildi',\n",
              "       'Ürün yanlış renk gönderildi\\u200b', 'Ürünüm defolu geldi',\n",
              "       'Ürünümün iki teki birbirinden farklıydı/aynıydı',\n",
              "       'Ürünümün kalitesinden memnun kalmadım'], dtype=object)"
            ]
          },
          "metadata": {},
          "execution_count": 20
        }
      ]
    },
    {
      "cell_type": "code",
      "source": [
        "model_name = \"dbmdz/bert-base-turkish-cased\"\n",
        "tokenizer = AutoTokenizer.from_pretrained(model_name)\n",
        "model = AutoModelForSequenceClassification.from_pretrained(model_name, num_labels=len(label_encoder.classes_))"
      ],
      "metadata": {
        "colab": {
          "base_uri": "https://localhost:8080/",
          "height": 338,
          "referenced_widgets": [
            "eab4e4869e634e19a76a776bc2d3b067",
            "e132c7ce1a534903968e010b29e19768",
            "fc4f7821eba44d6b8bcef9fa6cf41cc4",
            "fca0191891934552a8473fa2dc6e5fa6",
            "6939851e65344fb8aa4de271e14eac23",
            "d442a11fb0bb4a1da76fbf9046404b8c",
            "294ada4580b145f29adcfb3155de63db",
            "036990cef2bf47b18880c03d57179881",
            "7e8801384a8449ceb47df1ab4b594da4",
            "98da8641228c412191eb32fd04b82fe5",
            "ef93e4edebf24806adaf029cad9e792f",
            "c0490aca244a4622acfea919fd9f20a9",
            "3b788d29fcee4cb984719a80936c4e38",
            "3c2ceabff9b94a28971792d20c698be1",
            "8f31f72e276e4db18036a6032fb62d97",
            "57a65f37affb47acabc47d1c7b28ea4e",
            "97ae6c15c3204da4a2f911c00c777e92",
            "0694ea32d67a4403a89d012e70160558",
            "03d844f0bebf4947b58b96a486a27742",
            "c70b00e24afb415099d1cb3c0a6a58d1",
            "ed284569942842348d924201d8dc6b68",
            "79af242937794b9fa18732d5fc31635e",
            "411d8e0b02a34f438b635bc9d8c001b0",
            "5d0dd7448e2f4180a8ade4fd34c3b37b",
            "12c4654d674d44a2a9ac96b18ef813c4",
            "18c0bf83289d488c86e647627b7c57c0",
            "cffa99f1c41a42009e1158bf186e2e9f",
            "248b9f1a7bd043b6a1d28d1731185da4",
            "281e6fcc99c7452e904633e9943a6f15",
            "8d920634ce0a4969b4f9974f977fa884",
            "3f736e5b0a04495ca775e6fcebb2b4fe",
            "364b3bba648e47f2a0e2050c723f9dd5",
            "284f877050524c27a5f9ab2e13ecae9a",
            "d76c11236e2d42c1b457f7ec7a0a6fd1",
            "df4a1ee34d2b49cfbd98e6b3689673a6",
            "40b76570ca674f45b0ae29e72e5efdc5",
            "650f234b611a486b847a89c827c4a8e2",
            "4c2c5b24bb614a23a3539b0ece7d9be8",
            "60634d5f413042deafbfec455d8b2e99",
            "727cecbfd70e46da84aba85b549fa870",
            "409e08ee993d4443952db0c87ae10dfc",
            "0b1a9e08dce6467a894d2ca6c108dbcd",
            "9080199a524942c5b2c99e90c25a32d4",
            "1d2c970f88f341288c82363a8f3e2a30"
          ]
        },
        "id": "aK-Hmlw5cfdm",
        "outputId": "ccd0e2d6-ba02-4612-ef7d-cefc63e3d23f"
      },
      "execution_count": null,
      "outputs": [
        {
          "output_type": "stream",
          "name": "stderr",
          "text": [
            "/usr/local/lib/python3.11/dist-packages/huggingface_hub/utils/_auth.py:94: UserWarning: \n",
            "The secret `HF_TOKEN` does not exist in your Colab secrets.\n",
            "To authenticate with the Hugging Face Hub, create a token in your settings tab (https://huggingface.co/settings/tokens), set it as secret in your Google Colab and restart your session.\n",
            "You will be able to reuse this secret in all of your notebooks.\n",
            "Please note that authentication is recommended but still optional to access public models or datasets.\n",
            "  warnings.warn(\n"
          ]
        },
        {
          "output_type": "display_data",
          "data": {
            "text/plain": [
              "tokenizer_config.json:   0%|          | 0.00/60.0 [00:00<?, ?B/s]"
            ],
            "application/vnd.jupyter.widget-view+json": {
              "version_major": 2,
              "version_minor": 0,
              "model_id": "eab4e4869e634e19a76a776bc2d3b067"
            }
          },
          "metadata": {}
        },
        {
          "output_type": "display_data",
          "data": {
            "text/plain": [
              "config.json:   0%|          | 0.00/385 [00:00<?, ?B/s]"
            ],
            "application/vnd.jupyter.widget-view+json": {
              "version_major": 2,
              "version_minor": 0,
              "model_id": "c0490aca244a4622acfea919fd9f20a9"
            }
          },
          "metadata": {}
        },
        {
          "output_type": "display_data",
          "data": {
            "text/plain": [
              "vocab.txt:   0%|          | 0.00/251k [00:00<?, ?B/s]"
            ],
            "application/vnd.jupyter.widget-view+json": {
              "version_major": 2,
              "version_minor": 0,
              "model_id": "411d8e0b02a34f438b635bc9d8c001b0"
            }
          },
          "metadata": {}
        },
        {
          "output_type": "stream",
          "name": "stderr",
          "text": [
            "Xet Storage is enabled for this repo, but the 'hf_xet' package is not installed. Falling back to regular HTTP download. For better performance, install the package with: `pip install huggingface_hub[hf_xet]` or `pip install hf_xet`\n",
            "WARNING:huggingface_hub.file_download:Xet Storage is enabled for this repo, but the 'hf_xet' package is not installed. Falling back to regular HTTP download. For better performance, install the package with: `pip install huggingface_hub[hf_xet]` or `pip install hf_xet`\n"
          ]
        },
        {
          "output_type": "display_data",
          "data": {
            "text/plain": [
              "model.safetensors:   0%|          | 0.00/445M [00:00<?, ?B/s]"
            ],
            "application/vnd.jupyter.widget-view+json": {
              "version_major": 2,
              "version_minor": 0,
              "model_id": "d76c11236e2d42c1b457f7ec7a0a6fd1"
            }
          },
          "metadata": {}
        },
        {
          "output_type": "stream",
          "name": "stderr",
          "text": [
            "Some weights of BertForSequenceClassification were not initialized from the model checkpoint at dbmdz/bert-base-turkish-cased and are newly initialized: ['classifier.bias', 'classifier.weight']\n",
            "You should probably TRAIN this model on a down-stream task to be able to use it for predictions and inference.\n"
          ]
        }
      ]
    },
    {
      "cell_type": "code",
      "source": [
        "if torch.cuda.is_available():\n",
        "    print(\"GPU kullanılabilir.\")\n",
        "else:\n",
        "    print(\"GPU kullanılabilir değil. CPU kullanılıyor.\")"
      ],
      "metadata": {
        "colab": {
          "base_uri": "https://localhost:8080/"
        },
        "id": "JC4ZTap3cjcV",
        "outputId": "5ff58572-eb84-4f6b-ac89-12ecffea89f9"
      },
      "execution_count": null,
      "outputs": [
        {
          "output_type": "stream",
          "name": "stdout",
          "text": [
            "GPU kullanılabilir.\n"
          ]
        }
      ]
    },
    {
      "cell_type": "code",
      "source": [
        "import torch\n",
        "\n",
        "# PyTorch sürümünü yazdır\n",
        "print(\"PyTorch Sürümü:\", torch.__version__)\n",
        "\n",
        "# CUDA'nın kullanılabilirliğini kontrol et ve versiyonunu yazdır\n",
        "if torch.cuda.is_available():\n",
        "    print(\"CUDA Sürümü:\", torch.version.cuda)\n",
        "    print(\"CUDA kullanılabilir ve GPU kullanılıyor.\")\n",
        "else:\n",
        "    print(\"CUDA kullanılabilir değil. CPU kullanılıyor.\")"
      ],
      "metadata": {
        "colab": {
          "base_uri": "https://localhost:8080/"
        },
        "id": "4y2395dEcmTe",
        "outputId": "699d3caa-3cd8-47f9-e0f6-fb217d227bf5"
      },
      "execution_count": null,
      "outputs": [
        {
          "output_type": "stream",
          "name": "stdout",
          "text": [
            "PyTorch Sürümü: 2.6.0+cu124\n",
            "CUDA Sürümü: 12.4\n",
            "CUDA kullanılabilir ve GPU kullanılıyor.\n"
          ]
        }
      ]
    },
    {
      "cell_type": "code",
      "source": [
        "labels"
      ],
      "metadata": {
        "colab": {
          "base_uri": "https://localhost:8080/"
        },
        "id": "N8BQz5NN2cby",
        "outputId": "1affc797-78ae-4a7b-c2d7-3e1eac484e77"
      },
      "execution_count": null,
      "outputs": [
        {
          "output_type": "execute_result",
          "data": {
            "text/plain": [
              "array([0, 0, 0, ..., 7, 7, 7])"
            ]
          },
          "metadata": {},
          "execution_count": 27
        }
      ]
    },
    {
      "cell_type": "code",
      "source": [
        "def tokenize_data(texts):\n",
        "    texts = texts.tolist()\n",
        "    return tokenizer(texts, padding=True, truncation=True, return_tensors=\"pt\", max_length=256)\n",
        "\n",
        "X_train, X_test, y_train, y_test = train_test_split(df['Yorum'], labels, test_size=0.1, random_state=42,stratify=labels)\n",
        "X_train, X_val, y_train, y_val = train_test_split(X_train, y_train, test_size=0.1, random_state=42,stratify=y_train)\n",
        "\n",
        "len(X_train),len(X_test), len(X_val)\n"
      ],
      "metadata": {
        "colab": {
          "base_uri": "https://localhost:8080/"
        },
        "id": "he_0a5TWcntp",
        "outputId": "745c4dcd-d092-445e-d29c-5daad24c9fab"
      },
      "execution_count": null,
      "outputs": [
        {
          "output_type": "execute_result",
          "data": {
            "text/plain": [
              "(2276, 282, 253)"
            ]
          },
          "metadata": {},
          "execution_count": 28
        }
      ]
    },
    {
      "cell_type": "code",
      "source": [
        "print(\"Eğitim seti dağılımı:\")\n",
        "print(pd.Series(y_train).value_counts())\n",
        "\n",
        "print(\"\\nTest seti dağılımı:\")\n",
        "print(pd.Series(y_test).value_counts())\n",
        "\n",
        "print(\"\\nDoğrulama seti dağılımı:\")\n",
        "print(pd.Series(y_val).value_counts())\n",
        "\n"
      ],
      "metadata": {
        "colab": {
          "base_uri": "https://localhost:8080/"
        },
        "id": "p8zFU4pa1tOs",
        "outputId": "cc9745dc-8f64-4223-ad40-640d9f2b5f54"
      },
      "execution_count": null,
      "outputs": [
        {
          "output_type": "stream",
          "name": "stdout",
          "text": [
            "Eğitim seti dağılımı:\n",
            "1     210\n",
            "8     210\n",
            "10    209\n",
            "0     208\n",
            "2     206\n",
            "6     206\n",
            "3     206\n",
            "5     206\n",
            "9     205\n",
            "7     205\n",
            "4     205\n",
            "Name: count, dtype: int64\n",
            "\n",
            "Test seti dağılımı:\n",
            "0     26\n",
            "5     26\n",
            "8     26\n",
            "10    26\n",
            "1     26\n",
            "2     26\n",
            "6     26\n",
            "7     25\n",
            "9     25\n",
            "4     25\n",
            "3     25\n",
            "Name: count, dtype: int64\n",
            "\n",
            "Doğrulama seti dağılımı:\n",
            "7     23\n",
            "8     23\n",
            "10    23\n",
            "9     23\n",
            "0     23\n",
            "3     23\n",
            "6     23\n",
            "5     23\n",
            "4     23\n",
            "1     23\n",
            "2     23\n",
            "Name: count, dtype: int64\n"
          ]
        }
      ]
    },
    {
      "cell_type": "code",
      "source": [
        "train_inputs = tokenize_data(X_train)\n",
        "val_inputs = tokenize_data(X_val)\n",
        "test_inputs = tokenize_data(X_test)"
      ],
      "metadata": {
        "id": "WIlzxPD2dJQy"
      },
      "execution_count": null,
      "outputs": []
    },
    {
      "cell_type": "code",
      "source": [
        "def decode_tokens(input_ids):\n",
        "    return tokenizer.batch_decode(input_ids, skip_special_tokens=True)\n",
        "\n",
        "decoded_train_texts = decode_tokens(train_inputs['input_ids'][:5])\n",
        "decoded_val_texts = decode_tokens(val_inputs['input_ids'][:5])\n",
        "decoded_test_texts = decode_tokens(test_inputs['input_ids'][:5])\n",
        "\n",
        "# train_batch değişkenini bu noktada tanımlayın\n",
        "train_dataset = TensorDataset(train_inputs['input_ids'], train_inputs['attention_mask'], torch.tensor(y_train, dtype=torch.long))\n",
        "train_dataloader = DataLoader(train_dataset, batch_size=8, shuffle=True)\n",
        "train_batch = next(iter(train_dataloader)) # train_batch burada tanımlanıyor\n",
        "\n",
        "decoded_train_texts = decode_tokens(train_batch[0][:2])  # İlk 2 örneği dönüştür\n",
        "print(\"Decoded Train Batch Texts (İlk 2 örnek):\\n\", decoded_train_texts)\n",
        "\n",
        "print(\"\\nTokenize Edilmiş Train Metinleri (İlk 5 örnek):\\n\", decoded_train_texts)\n",
        "print(\"\\nTokenize Edilmiş Val Metinleri (İlk 5 örnek):\\n\", decoded_val_texts)\n",
        "print(\"\\nTokenize Edilmiş Test Metinleri (İlk 5 örnek):\\n\", decoded_test_texts)\n",
        "\n",
        "# ... (Geri kalan kodunuz)"
      ],
      "metadata": {
        "colab": {
          "base_uri": "https://localhost:8080/"
        },
        "id": "F-aBCGBxdzyz",
        "outputId": "f43f9cb9-5e05-4c1d-ea2e-d85d48b93096"
      },
      "execution_count": null,
      "outputs": [
        {
          "output_type": "stream",
          "name": "stdout",
          "text": [
            "Decoded Train Batch Texts (İlk 2 örnek):\n",
            " ['Siyah sandalet sipariş ettim, biri siyah biri kahverengi, müşteri hizmetleri yardımcı oldu, iade ettim.', 'Kampanyalı alışverişimde 2 çift bot sipariş ettim, sadece 1 çift geldi. Diğerinin tedarik edilemeyeceği söylendi.']\n",
            "\n",
            "Tokenize Edilmiş Train Metinleri (İlk 5 örnek):\n",
            " ['Siyah sandalet sipariş ettim, biri siyah biri kahverengi, müşteri hizmetleri yardımcı oldu, iade ettim.', 'Kampanyalı alışverişimde 2 çift bot sipariş ettim, sadece 1 çift geldi. Diğerinin tedarik edilemeyeceği söylendi.']\n",
            "\n",
            "Tokenize Edilmiş Val Metinleri (İlk 5 örnek):\n",
            " ['Siyah rugan ayakkabı istedim, gelen mat siyah ve deri tipi de farklıydı.', 'Gelen spor ayakkabının yan tarafında ciddi bir ezik vardı, değiştirmeye bile değmezdi.', 'Botun fermuarı sürekli takılıyor ve zor kapanıyor. Kalitesiz bir fermuar kullanmışlar.', 'Siyah spor ayakkabı sipariş ettim, kutu açtığımda içinden turuncu renk çıktı. Görselle hiçbir alakası yoktu, hemen iade ettim.', 'Spor ayakkabının bağcıkları o kadar kalitesiz ki sürekli çözülüyor ve koptu.']\n",
            "\n",
            "Tokenize Edilmiş Test Metinleri (İlk 5 örnek):\n",
            " ['Krem rengi babetler sipariş ettim, gelenler tam bir beyazdı. İnternet görseliyle hiç alakası yoktu.', 'Üç tane diz altı çorap aldım, sadece iki tanesi vardı.', 'Siparişim iptal edilmesine rağmen kargoya verilmişti, müşteri hizmetleri \" sistem hatası \" deyip ürünü geri almadı.', 'Oğluma terlik aldım çok farklı pembe kelebekli bir terlik gönderildi Stokta olmayan ürünü gönderdiler. İade ile uğraştım.', 'Yanlış renk ürün gönderdiler, müşteri hizmetlerini aradım ama sanki suçlu benmişim gibi davrandılar. Değişim talep ettim, sürekli oyaladılar.']\n"
          ]
        }
      ]
    },
    {
      "cell_type": "code",
      "source": [
        "\n",
        "print(\"Train Inputs Anahtarları:\", train_inputs.keys())\n",
        "print(\"Train Input IDs Şekli:\", train_inputs['input_ids'].shape)\n",
        "print(\"Train Attention Mask Şekli:\", train_inputs['attention_mask'].shape)\n",
        "print()\n",
        "print(\"\\nVal Inputs Anahtarları:\", val_inputs.keys())\n",
        "print(\"Val Input IDs Şekli:\", val_inputs['input_ids'].shape)\n",
        "print(\"Val Attention Mask Şekli:\", val_inputs['attention_mask'].shape)\n",
        "print()\n",
        "print(\"\\nTest Inputs Anahtarları:\", test_inputs.keys())\n",
        "print(\"Test Input IDs Şekli:\", test_inputs['input_ids'].shape)\n",
        "print(\"Test Attention Mask Şekli:\", test_inputs['attention_mask'].shape)\n",
        "\n",
        "def decode_tokens(input_ids):\n",
        "    return tokenizer.batch_decode(input_ids, skip_special_tokens=True)\n",
        "\n",
        "decoded_train_texts = decode_tokens(train_inputs['input_ids'][:5])\n",
        "decoded_val_texts = decode_tokens(val_inputs['input_ids'][:5])\n",
        "decoded_test_texts = decode_tokens(test_inputs['input_ids'][:5])\n",
        "\n",
        "decoded_train_texts = decode_tokens(train_batch[0][:2])  # İlk 2 örneği dönüştür\n",
        "print(\"Decoded Train Batch Texts (İlk 2 örnek):\\n\", decoded_train_texts)\n",
        "\n",
        "print(\"\\nTokenize Edilmiş Train Metinleri (İlk 5 örnek):\\n\", decoded_train_texts)\n",
        "print(\"\\nTokenize Edilmiş Val Metinleri (İlk 5 örnek):\\n\", decoded_val_texts)\n",
        "print(\"\\nTokenize Edilmiş Test Metinleri (İlk 5 örnek):\\n\", decoded_test_texts)\n",
        "\n",
        "train_dataset = TensorDataset(train_inputs['input_ids'], train_inputs['attention_mask'], torch.tensor(y_train, dtype=torch.long))\n",
        "val_dataset = TensorDataset(val_inputs['input_ids'], val_inputs['attention_mask'], torch.tensor(y_val, dtype=torch.long))\n",
        "test_dataset = TensorDataset(test_inputs['input_ids'], test_inputs['attention_mask'], torch.tensor(y_test, dtype=torch.long))\n",
        "\n",
        "train_dataloader = DataLoader(train_dataset, batch_size=8, shuffle=True)\n",
        "val_dataloader = DataLoader(val_dataset, batch_size=8, shuffle=False)\n",
        "test_dataloader = DataLoader(test_dataset, batch_size=8, shuffle=False)\n",
        "\n",
        "print(\"Train DataLoader Uzunluğu (Batch Sayısı):\", len(train_dataloader))\n",
        "print(\"Val DataLoader Uzunluğu (Batch Sayısı):\", len(val_dataloader))\n",
        "print(\"Test DataLoader Uzunluğu (Batch Sayısı):\", len(test_dataloader))\n",
        "\n",
        "\n",
        "train_batch = next(iter(train_dataloader))\n",
        "print(\"Train Batch Input IDs Şekli:\", train_batch[0].shape)\n",
        "print(\"Train Batch Attention Mask Şekli:\", train_batch[1].shape)\n",
        "print(\"Train Batch Etiket Şekli:\", train_batch[2].shape)\n",
        "\n",
        "val_batch = next(iter(val_dataloader))\n",
        "print(\"\\nVal Batch Input IDs Şekli:\", val_batch[0].shape)\n",
        "print(\"Val Batch Attention Mask Şekli:\", val_batch[1].shape)\n",
        "print(\"Val Batch Etiket Şekli:\", val_batch[2].shape)\n",
        "\n",
        "test_batch = next(iter(test_dataloader))\n",
        "print(\"\\nTest Batch Input IDs Şekli:\", test_batch[0].shape)\n",
        "print(\"Test Batch Attention Mask Şekli:\", test_batch[1].shape)\n",
        "print(\"Test Batch Etiket Şekli:\", test_batch[2].shape)\n",
        "\n",
        "print(\"Train Batch Input IDs (İlk 2 örnek):\\n\", train_batch[0][:2])\n",
        "print(\"\\nTrain Batch Attention Mask (İlk 2 örnek):\\n\", train_batch[1][:2])\n",
        "print(\"\\nTrain Batch Etiketleri (İlk 2 örnek):\\n\", train_batch[2][:2])\n",
        "\n",
        "\n",
        "def decode_tokens(input_ids):\n",
        "    return tokenizer.batch_decode(input_ids, skip_special_tokens=True)\n",
        "\n",
        "\n",
        "\n",
        "print(\"Train DataLoader Batch Size:\", train_dataloader.batch_size)\n",
        "print(\"Train DataLoader Shuffle:\", train_dataloader.sampler.shuffle if hasattr(train_dataloader.sampler, 'shuffle') else \"Shuffle bilgisi yok\")\n",
        "\n",
        "\n",
        "\n"
      ],
      "metadata": {
        "colab": {
          "base_uri": "https://localhost:8080/"
        },
        "id": "wgY42UlDd5V8",
        "outputId": "7e193c11-a559-4322-f9ff-e8d4fde6f64f"
      },
      "execution_count": null,
      "outputs": [
        {
          "output_type": "stream",
          "name": "stdout",
          "text": [
            "Train Inputs Anahtarları: dict_keys(['input_ids', 'token_type_ids', 'attention_mask'])\n",
            "Train Input IDs Şekli: torch.Size([2276, 81])\n",
            "Train Attention Mask Şekli: torch.Size([2276, 81])\n",
            "\n",
            "\n",
            "Val Inputs Anahtarları: dict_keys(['input_ids', 'token_type_ids', 'attention_mask'])\n",
            "Val Input IDs Şekli: torch.Size([253, 55])\n",
            "Val Attention Mask Şekli: torch.Size([253, 55])\n",
            "\n",
            "\n",
            "Test Inputs Anahtarları: dict_keys(['input_ids', 'token_type_ids', 'attention_mask'])\n",
            "Test Input IDs Şekli: torch.Size([282, 48])\n",
            "Test Attention Mask Şekli: torch.Size([282, 48])\n",
            "Decoded Train Batch Texts (İlk 2 örnek):\n",
            " ['Siyah sandalet sipariş ettim, biri siyah biri kahverengi, müşteri hizmetleri yardımcı oldu, iade ettim.', 'Kampanyalı alışverişimde 2 çift bot sipariş ettim, sadece 1 çift geldi. Diğerinin tedarik edilemeyeceği söylendi.']\n",
            "\n",
            "Tokenize Edilmiş Train Metinleri (İlk 5 örnek):\n",
            " ['Siyah sandalet sipariş ettim, biri siyah biri kahverengi, müşteri hizmetleri yardımcı oldu, iade ettim.', 'Kampanyalı alışverişimde 2 çift bot sipariş ettim, sadece 1 çift geldi. Diğerinin tedarik edilemeyeceği söylendi.']\n",
            "\n",
            "Tokenize Edilmiş Val Metinleri (İlk 5 örnek):\n",
            " ['Siyah rugan ayakkabı istedim, gelen mat siyah ve deri tipi de farklıydı.', 'Gelen spor ayakkabının yan tarafında ciddi bir ezik vardı, değiştirmeye bile değmezdi.', 'Botun fermuarı sürekli takılıyor ve zor kapanıyor. Kalitesiz bir fermuar kullanmışlar.', 'Siyah spor ayakkabı sipariş ettim, kutu açtığımda içinden turuncu renk çıktı. Görselle hiçbir alakası yoktu, hemen iade ettim.', 'Spor ayakkabının bağcıkları o kadar kalitesiz ki sürekli çözülüyor ve koptu.']\n",
            "\n",
            "Tokenize Edilmiş Test Metinleri (İlk 5 örnek):\n",
            " ['Krem rengi babetler sipariş ettim, gelenler tam bir beyazdı. İnternet görseliyle hiç alakası yoktu.', 'Üç tane diz altı çorap aldım, sadece iki tanesi vardı.', 'Siparişim iptal edilmesine rağmen kargoya verilmişti, müşteri hizmetleri \" sistem hatası \" deyip ürünü geri almadı.', 'Oğluma terlik aldım çok farklı pembe kelebekli bir terlik gönderildi Stokta olmayan ürünü gönderdiler. İade ile uğraştım.', 'Yanlış renk ürün gönderdiler, müşteri hizmetlerini aradım ama sanki suçlu benmişim gibi davrandılar. Değişim talep ettim, sürekli oyaladılar.']\n",
            "Train DataLoader Uzunluğu (Batch Sayısı): 285\n",
            "Val DataLoader Uzunluğu (Batch Sayısı): 32\n",
            "Test DataLoader Uzunluğu (Batch Sayısı): 36\n",
            "Train Batch Input IDs Şekli: torch.Size([8, 81])\n",
            "Train Batch Attention Mask Şekli: torch.Size([8, 81])\n",
            "Train Batch Etiket Şekli: torch.Size([8])\n",
            "\n",
            "Val Batch Input IDs Şekli: torch.Size([8, 55])\n",
            "Val Batch Attention Mask Şekli: torch.Size([8, 55])\n",
            "Val Batch Etiket Şekli: torch.Size([8])\n",
            "\n",
            "Test Batch Input IDs Şekli: torch.Size([8, 48])\n",
            "Test Batch Attention Mask Şekli: torch.Size([8, 48])\n",
            "Test Batch Etiket Şekli: torch.Size([8])\n",
            "Train Batch Input IDs (İlk 2 örnek):\n",
            " tensor([[    2,  9622,  2080, 12116,  2522, 19404,  3706,  2262,  2171,  2411,\n",
            "          7922,  1986,  7590,  3421,  1027,  2511,  2035, 26961,  2340,  2111,\n",
            "            18,     3,     0,     0,     0,     0,     0,     0,     0,     0,\n",
            "             0,     0,     0,     0,     0,     0,     0,     0,     0,     0,\n",
            "             0,     0,     0,     0,     0,     0,     0,     0,     0,     0,\n",
            "             0,     0,     0,     0,     0,     0,     0,     0,     0,     0,\n",
            "             0,     0,     0,     0,     0,     0,     0,     0,     0,     0,\n",
            "             0,     0,     0,     0,     0,     0,     0,     0,     0,     0,\n",
            "             0],\n",
            "        [    2,  3866, 31163,  1022,  3101, 30015,  3043,  1096,  4766,  2782,\n",
            "         29620,  1990,    18,     3,     0,     0,     0,     0,     0,     0,\n",
            "             0,     0,     0,     0,     0,     0,     0,     0,     0,     0,\n",
            "             0,     0,     0,     0,     0,     0,     0,     0,     0,     0,\n",
            "             0,     0,     0,     0,     0,     0,     0,     0,     0,     0,\n",
            "             0,     0,     0,     0,     0,     0,     0,     0,     0,     0,\n",
            "             0,     0,     0,     0,     0,     0,     0,     0,     0,     0,\n",
            "             0,     0,     0,     0,     0,     0,     0,     0,     0,     0,\n",
            "             0]])\n",
            "\n",
            "Train Batch Attention Mask (İlk 2 örnek):\n",
            " tensor([[1, 1, 1, 1, 1, 1, 1, 1, 1, 1, 1, 1, 1, 1, 1, 1, 1, 1, 1, 1, 1, 1, 0, 0,\n",
            "         0, 0, 0, 0, 0, 0, 0, 0, 0, 0, 0, 0, 0, 0, 0, 0, 0, 0, 0, 0, 0, 0, 0, 0,\n",
            "         0, 0, 0, 0, 0, 0, 0, 0, 0, 0, 0, 0, 0, 0, 0, 0, 0, 0, 0, 0, 0, 0, 0, 0,\n",
            "         0, 0, 0, 0, 0, 0, 0, 0, 0],\n",
            "        [1, 1, 1, 1, 1, 1, 1, 1, 1, 1, 1, 1, 1, 1, 0, 0, 0, 0, 0, 0, 0, 0, 0, 0,\n",
            "         0, 0, 0, 0, 0, 0, 0, 0, 0, 0, 0, 0, 0, 0, 0, 0, 0, 0, 0, 0, 0, 0, 0, 0,\n",
            "         0, 0, 0, 0, 0, 0, 0, 0, 0, 0, 0, 0, 0, 0, 0, 0, 0, 0, 0, 0, 0, 0, 0, 0,\n",
            "         0, 0, 0, 0, 0, 0, 0, 0, 0]])\n",
            "\n",
            "Train Batch Etiketleri (İlk 2 örnek):\n",
            " tensor([10,  2])\n",
            "Train DataLoader Batch Size: 8\n",
            "Train DataLoader Shuffle: Shuffle bilgisi yok\n"
          ]
        }
      ]
    },
    {
      "cell_type": "code",
      "source": [
        "device = torch.device(\"cuda\" if torch.cuda.is_available() else \"cpu\")\n",
        "print(device)\n",
        "model.to(device)"
      ],
      "metadata": {
        "colab": {
          "base_uri": "https://localhost:8080/"
        },
        "id": "Z-dghLvYd9JO",
        "outputId": "b3bab6a3-9b35-41f2-b15a-801b73de6088"
      },
      "execution_count": null,
      "outputs": [
        {
          "output_type": "stream",
          "name": "stdout",
          "text": [
            "cuda\n"
          ]
        },
        {
          "output_type": "execute_result",
          "data": {
            "text/plain": [
              "BertForSequenceClassification(\n",
              "  (bert): BertModel(\n",
              "    (embeddings): BertEmbeddings(\n",
              "      (word_embeddings): Embedding(32000, 768, padding_idx=0)\n",
              "      (position_embeddings): Embedding(512, 768)\n",
              "      (token_type_embeddings): Embedding(2, 768)\n",
              "      (LayerNorm): LayerNorm((768,), eps=1e-12, elementwise_affine=True)\n",
              "      (dropout): Dropout(p=0.1, inplace=False)\n",
              "    )\n",
              "    (encoder): BertEncoder(\n",
              "      (layer): ModuleList(\n",
              "        (0-11): 12 x BertLayer(\n",
              "          (attention): BertAttention(\n",
              "            (self): BertSdpaSelfAttention(\n",
              "              (query): Linear(in_features=768, out_features=768, bias=True)\n",
              "              (key): Linear(in_features=768, out_features=768, bias=True)\n",
              "              (value): Linear(in_features=768, out_features=768, bias=True)\n",
              "              (dropout): Dropout(p=0.1, inplace=False)\n",
              "            )\n",
              "            (output): BertSelfOutput(\n",
              "              (dense): Linear(in_features=768, out_features=768, bias=True)\n",
              "              (LayerNorm): LayerNorm((768,), eps=1e-12, elementwise_affine=True)\n",
              "              (dropout): Dropout(p=0.1, inplace=False)\n",
              "            )\n",
              "          )\n",
              "          (intermediate): BertIntermediate(\n",
              "            (dense): Linear(in_features=768, out_features=3072, bias=True)\n",
              "            (intermediate_act_fn): GELUActivation()\n",
              "          )\n",
              "          (output): BertOutput(\n",
              "            (dense): Linear(in_features=3072, out_features=768, bias=True)\n",
              "            (LayerNorm): LayerNorm((768,), eps=1e-12, elementwise_affine=True)\n",
              "            (dropout): Dropout(p=0.1, inplace=False)\n",
              "          )\n",
              "        )\n",
              "      )\n",
              "    )\n",
              "    (pooler): BertPooler(\n",
              "      (dense): Linear(in_features=768, out_features=768, bias=True)\n",
              "      (activation): Tanh()\n",
              "    )\n",
              "  )\n",
              "  (dropout): Dropout(p=0.1, inplace=False)\n",
              "  (classifier): Linear(in_features=768, out_features=11, bias=True)\n",
              ")"
            ]
          },
          "metadata": {},
          "execution_count": 33
        }
      ]
    },
    {
      "cell_type": "code",
      "source": [
        "for map in df.MAP.unique():\n",
        "  mapCount = len(df[df[\"MAP\"]==map])\n",
        "  print(f\"Map : {map} , Sayısı : {mapCount}\")\n",
        "print()\n"
      ],
      "metadata": {
        "colab": {
          "base_uri": "https://localhost:8080/"
        },
        "id": "jNH9tDRQeAEM",
        "outputId": "970e0fa8-d28a-4357-f53f-510e06c56a3d"
      },
      "execution_count": null,
      "outputs": [
        {
          "output_type": "stream",
          "name": "stdout",
          "text": [
            "Map : Eksik ürün gönderildi , Sayısı : 257\n",
            "Map : Farklı kategoriden bir ürün gönderildi​ , Sayısı : 259\n",
            "Map : Farklı markaya ait farklı ürün gönderildi​ , Sayısı : 255\n",
            "Map : Farklı model ürün gönderildi , Sayısı : 254\n",
            "Map : Ürün yanlış numara/beden gönderildi , Sayısı : 255\n",
            "Map : Ürün yanlış renk gönderildi​ , Sayısı : 253\n",
            "Map : Ürünüm defolu geldi , Sayısı : 259\n",
            "Map : Ürünümün iki teki birbirinden farklıydı/aynıydı , Sayısı : 253\n",
            "Map : Kalıbı küçüktü/büyüktü , Sayısı : 253\n",
            "Map : Ürünümün kalitesinden memnun kalmadım , Sayısı : 258\n",
            "Map : Müşteri temsilcisi yardımcı olmadı , Sayısı : 255\n",
            "\n"
          ]
        }
      ]
    },
    {
      "cell_type": "code",
      "source": [
        "# Optimizer ve scheduler'ı ayarlayın\n",
        "optimizer = AdamW(model.parameters(), lr=2e-5, weight_decay=0.001)\n",
        "epochs = 15\n",
        "total_steps = len(train_dataloader) * epochs # Train dataloader'dan gelen batch sayısını kullanarak toplam adım sayısını hesaplayın\n",
        "scheduler = get_linear_schedule_with_warmup(optimizer, num_warmup_steps=0, num_training_steps=total_steps)"
      ],
      "metadata": {
        "id": "E2R7YkH_eBx2"
      },
      "execution_count": null,
      "outputs": []
    },
    {
      "cell_type": "code",
      "source": [
        "# TensorBoard yazıcıyı başlatın\n",
        "writer = SummaryWriter(log_dir='./logs')\n",
        "\n",
        "## Model Eğitim Fonksiyonu\n",
        "def train_model(model, train_dataloader, val_dataloader, optimizer, scheduler, epochs=10, patience=5):\n",
        "    model.train()\n",
        "    best_val_loss = float('inf')\n",
        "    patience_counter = 0\n",
        "    for epoch in range(epochs):\n",
        "\n",
        "        total_loss = 0\n",
        "        model.train()\n",
        "        for batch in train_dataloader:\n",
        "            b_input_ids, b_attention_mask, b_labels = [b.to(device) for b in batch]\n",
        "            optimizer.zero_grad()\n",
        "            outputs = model(b_input_ids, attention_mask=b_attention_mask, labels=b_labels)\n",
        "            loss = outputs.loss\n",
        "            total_loss += loss.item()\n",
        "            loss.backward()\n",
        "            optimizer.step()\n",
        "            scheduler.step()\n",
        "\n",
        "        avg_loss = total_loss / len(train_dataloader)\n",
        "\n",
        "        # **Validation loss hesaplama**\n",
        "        model.eval()\n",
        "        val_loss = 0\n",
        "        with torch.no_grad():\n",
        "            for batch in val_dataloader:\n",
        "                b_input_ids, b_attention_mask, b_labels = [b.to(device) for b in batch]\n",
        "                outputs = model(b_input_ids, attention_mask=b_attention_mask, labels=b_labels)\n",
        "                val_loss += outputs.loss.item()\n",
        "        avg_val_loss = val_loss / len(val_dataloader)\n",
        "\n",
        "        print(f\"Epoch {epoch+1}, Loss: {avg_loss:.4f}, Val Loss: {avg_val_loss:.4f}\")\n",
        "        writer.add_scalars('Loss', {'train': avg_loss, 'val': avg_val_loss}, epoch)\n",
        "\n",
        "        # **Early Stopping kontrolü**\n",
        "        if avg_val_loss < best_val_loss:\n",
        "            best_val_loss = avg_val_loss\n",
        "            best_epoch = epoch + 1  # En iyi epoch'u güncelle\n",
        "            patience_counter = 0\n",
        "            torch.save(model.state_dict(), '/content/drive/MyDrive/hata/ALT REASON/ÜRÜN YANLIŞ/best_model.pth')  # En iyi modeli kaydet\n",
        "        else:\n",
        "            patience_counter += 1\n",
        "\n",
        "        if patience_counter >= patience:\n",
        "            print(f\"Early stopping tetiklendi! En İyi Epoch Sayısı: {best_epoch}, En iyi val loss: {best_val_loss:.4f}\") # best_epoch'u yazdır\n",
        "            break\n",
        "\n",
        "## Model Değerlendirme Fonksiyonu\n",
        "def evaluate_model(model, test_dataloader):\n",
        "    model.load_state_dict(torch.load('/content/drive/MyDrive/hata/ALT REASON/ÜRÜN YANLIŞ/best_model.pth'))  # En iyi modeli yükle\n",
        "    model.eval()\n",
        "    predictions, true_labels = [], []\n",
        "\n",
        "    with torch.no_grad():\n",
        "        for batch in test_dataloader:\n",
        "            b_input_ids, b_attention_mask, b_labels = [b.to(device) for b in batch]\n",
        "            outputs = model(b_input_ids, attention_mask=b_attention_mask)\n",
        "            logits = outputs.logits\n",
        "            predictions.extend(torch.argmax(logits, axis=-1).cpu().numpy())\n",
        "            true_labels.extend(b_labels.cpu().numpy())\n",
        "\n",
        "    accuracy = accuracy_score(true_labels, predictions)\n",
        "    print(f\"Test Accuracy: {accuracy:.4f}\")\n",
        "    cm = confusion_matrix(true_labels, predictions)\n",
        "    sns.heatmap(cm, annot=True, fmt='d', cmap='Greens', xticklabels=label_encoder.classes_, yticklabels=label_encoder.classes_)\n",
        "    plt.xlabel('Predicted')\n",
        "    plt.ylabel('True')\n",
        "    plt.show()\n",
        "    return accuracy\n",
        "\n",
        "# # # Eğitim Başlatma\n",
        "print(\"Model eğitiliyor...\")\n",
        "train_model(model, train_dataloader, val_dataloader, optimizer, scheduler, epochs=10, patience=3)\n",
        "\n",
        "# Modeli Test Etme\n",
        "print(\"Model test ediliyor...\")\n",
        "evaluate_model(model, test_dataloader)\n",
        "\n",
        "# Model ve tokenizer'ı kaydetme\n",
        "model.save_pretrained(\"/content/drive/MyDrive/hata/ALT REASON/ÜRÜN YANLIŞ/bert_finetuned_model\")\n",
        "tokenizer.save_pretrained(\"/content/drive/MyDrive/hata/ALT REASON/ÜRÜN YANLIŞ/bert_finetuned_model\")\n",
        "print(\"Model başarıyla kaydedildi!\")"
      ],
      "metadata": {
        "colab": {
          "base_uri": "https://localhost:8080/",
          "height": 980
        },
        "id": "upAgeD1HeJfg",
        "outputId": "3751dcd2-48a7-4390-ad39-b0e39107ae20"
      },
      "execution_count": null,
      "outputs": [
        {
          "output_type": "stream",
          "name": "stdout",
          "text": [
            "Model eğitiliyor...\n",
            "Epoch 1, Loss: 1.2008, Val Loss: 0.3084\n",
            "Epoch 2, Loss: 0.2284, Val Loss: 0.3090\n",
            "Epoch 3, Loss: 0.0943, Val Loss: 0.2014\n",
            "Epoch 4, Loss: 0.0570, Val Loss: 0.1752\n",
            "Epoch 5, Loss: 0.0378, Val Loss: 0.1711\n",
            "Epoch 6, Loss: 0.0221, Val Loss: 0.2470\n",
            "Epoch 7, Loss: 0.0158, Val Loss: 0.2054\n",
            "Epoch 8, Loss: 0.0084, Val Loss: 0.2481\n",
            "Early stopping tetiklendi! En İyi Epoch Sayısı: 5, En iyi val loss: 0.1711\n",
            "Model test ediliyor...\n",
            "Test Accuracy: 0.9397\n"
          ]
        },
        {
          "output_type": "display_data",
          "data": {
            "text/plain": [
              "<Figure size 640x480 with 2 Axes>"
            ],
            "image/png": "[encoded data removed]"
          },
          "metadata": {}
        },
        {
          "output_type": "stream",
          "name": "stdout",
          "text": [
            "Model başarıyla kaydedildi!\n"
          ]
        }
      ]
    },
    {
      "cell_type": "code",
      "source": [
        "\n",
        "evaluate_model(model, train_dataloader)\n"
      ],
      "metadata": {
        "id": "nElyNvqJhpyq",
        "outputId": "3f42d577-8544-4ae8-b263-d17ab66a7bd6",
        "colab": {
          "base_uri": "https://localhost:8080/",
          "height": 790
        }
      },
      "execution_count": null,
      "outputs": [
        {
          "output_type": "stream",
          "name": "stdout",
          "text": [
            "Test Accuracy: 0.9930\n"
          ]
        },
        {
          "output_type": "display_data",
          "data": {
            "text/plain": [
              "<Figure size 640x480 with 2 Axes>"
            ],
            "image/png": "[encoded data removed]"
          },
          "metadata": {}
        },
        {
          "output_type": "execute_result",
          "data": {
            "text/plain": [
              "0.9929701230228472"
            ]
          },
          "metadata": {},
          "execution_count": 37
        }
      ]
    },
    {
      "cell_type": "code",
      "source": [
        "import numpy as np\n",
        "import torch\n",
        "\n",
        "# Varsayımlar:\n",
        "# - X_test, test verilerini içeren bir Pandas DataFrame veya Series\n",
        "# - y_test, gerçek etiketleri içeren bir NumPy dizisi\n",
        "# - label_encoder, etiketleri kodlamak için kullanılan bir sklearn LabelEncoder nesnesi\n",
        "# - tokenize_data, metinleri token'lara dönüştüren bir fonksiyon\n",
        "# - model, tahmin yapmak için kullanılan bir PyTorch modeli\n",
        "# - device, modelin üzerinde çalıştığı cihaz (CPU veya GPU)\n",
        "\n",
        "def hatalari_yazdir(X_test, y_test, label_encoder, tokenize_data, model, device):\n",
        "    hatali_ornekler = []\n",
        "\n",
        "    for ix in range(len(X_test)):\n",
        "        text = X_test.iloc[ix]\n",
        "        true_label = label_encoder.classes_[y_test[ix]]\n",
        "\n",
        "        token = tokenize_data(np.array([text]))\n",
        "        b_input_ids, b_attention_mask = token[\"input_ids\"].to(device), token[\"attention_mask\"].to(device)\n",
        "        outputs = model(b_input_ids, attention_mask=b_attention_mask)\n",
        "        logits = outputs.logits\n",
        "        pred = torch.argmax(logits, axis=-1).cpu().numpy()[0]\n",
        "        predicted_label = label_encoder.classes_[pred]\n",
        "\n",
        "        if true_label != predicted_label:\n",
        "            hatali_ornekler.append({\n",
        "                \"metin\": text,\n",
        "                \"gercek_deger\": true_label,\n",
        "                \"tahmin_edilen_deger\": predicted_label\n",
        "            })\n",
        "\n",
        "    if not hatali_ornekler:\n",
        "        print(\"Tahminlerde hata bulunmamaktadır.\")\n",
        "    else:\n",
        "        for ornek in hatali_ornekler:\n",
        "            print(\"--------------------------------------------------\")\n",
        "            print(f\"Metin: {ornek['metin']}\")\n",
        "            print(f\"Gerçek Değer: {ornek['gercek_deger']}\")\n",
        "            print(f\"Tahmin Edilen Değer: {ornek['tahmin_edilen_deger']}\")\n",
        "\n",
        "# Kullanım örneği:\n",
        "hatalari_yazdir(X_test, y_test, label_encoder, tokenize_data, model, device)"
      ],
      "metadata": {
        "colab": {
          "base_uri": "https://localhost:8080/"
        },
        "id": "JtXJnJqIelDH",
        "outputId": "26474a61-51fa-4625-a722-adb3eedbfaf7"
      },
      "execution_count": null,
      "outputs": [
        {
          "output_type": "stream",
          "name": "stdout",
          "text": [
            "--------------------------------------------------\n",
            "Metin: Terliğin bir ayağı dar, diğeri bol geldi. Kalıp hatası var gibi.\n",
            "Gerçek Değer: Ürünüm defolu geldi\n",
            "Tahmin Edilen Değer: Ürünümün iki teki birbirinden farklıydı/aynıydı\n",
            "--------------------------------------------------\n",
            "Metin: Krem rengi çizme geldi, sağ tekin kalıbı büyük, sol teki normal, iade ettim.\n",
            "Gerçek Değer: Ürünüm defolu geldi\n",
            "Tahmin Edilen Değer: Ürün yanlış numara/beden gönderildi\n",
            "--------------------------------------------------\n",
            "Metin: 1a1b kampanyasından ürün aldım. 1600 tl ye aldığım ayakakbıyı ertesi gün 1400 tl ye düştü. Ayakkabı da yanlış renk geldi.\n",
            "Gerçek Değer: Ürün yanlış renk gönderildi​\n",
            "Tahmin Edilen Değer: Farklı model ürün gönderildi\n",
            "--------------------------------------------------\n",
            "Metin: Kahverengi ayakkabı aldım, dikişler bozuk, birkaç giymede açıldı, iade süreci başlattım.\n",
            "Gerçek Değer: Ürünümün kalitesinden memnun kalmadım\n",
            "Tahmin Edilen Değer: Ürünüm defolu geldi\n",
            "--------------------------------------------------\n",
            "Metin: Ürünün iç astarı daha ilk giymede ayağıma dolandı, çok kalitesiz geldi.\n",
            "Gerçek Değer: Ürünüm defolu geldi\n",
            "Tahmin Edilen Değer: Ürünümün kalitesinden memnun kalmadım\n",
            "--------------------------------------------------\n",
            "Metin: Online sipariş ettiğim terliklerin tabanları kaygan değil aksine yapış yapış bir his bırakıyor.\n",
            "Gerçek Değer: Ürünüm defolu geldi\n",
            "Tahmin Edilen Değer: Ürünümün kalitesinden memnun kalmadım\n",
            "--------------------------------------------------\n",
            "Metin: 1a1b kampanyasından 1 erkek 1 kadın ayakkabısı aldım erkek ayakkabı geldi ama lotto marka tshırt geldi. (İade ettim. Kinetix almıştım. Gelmedi. Farklı kategoriden ürün geldi.)\n",
            "Gerçek Değer: Farklı kategoriden bir ürün gönderildi​\n",
            "Tahmin Edilen Değer: Farklı markaya ait farklı ürün gönderildi​\n",
            "--------------------------------------------------\n",
            "Metin: İki çift çorap sipariş etmiştim, her paketten aynı yönde çoraplar çıktı. Bir çifti tamamlamak için iki paket açmak zorunda kaldım.\n",
            "Gerçek Değer: Ürünümün iki teki birbirinden farklıydı/aynıydı\n",
            "Tahmin Edilen Değer: Eksik ürün gönderildi\n",
            "--------------------------------------------------\n",
            "Metin: Bedeni olmadı. İade ettik. Şuan için bir problem yok.\n",
            "Gerçek Değer: Kalıbı küçüktü/büyüktü\n",
            "Tahmin Edilen Değer: Ürün yanlış numara/beden gönderildi\n",
            "--------------------------------------------------\n",
            "Metin: Ayakkabının kalıbı çok küçüktü, iade etmek istedim ama müşteri temsilcisi süreci o kadar karmaşık anlattı ki vazgeçtim neredeyse.\n",
            "Gerçek Değer: Müşteri temsilcisi yardımcı olmadı\n",
            "Tahmin Edilen Değer: Ürünümün kalitesinden memnun kalmadım\n",
            "--------------------------------------------------\n",
            "Metin: Siparişimde sağ tek 40, sol tek 42 numaraydı. Değişim istedim ama stok yoktu.\n",
            "Gerçek Değer: Ürünümün iki teki birbirinden farklıydı/aynıydı\n",
            "Tahmin Edilen Değer: Ürün yanlış numara/beden gönderildi\n",
            "--------------------------------------------------\n",
            "Metin: Polaris marka bot aldım, ama başka bir model göndermişler.\n",
            "Gerçek Değer: Farklı model ürün gönderildi\n",
            "Tahmin Edilen Değer: Farklı markaya ait farklı ürün gönderildi​\n",
            "--------------------------------------------------\n",
            "Metin: Deri çizmelerimin topuk kısmındaki lastik çok çabuk aşındı, iki hafta sonra yıpranmış görünüyor.\n",
            "Gerçek Değer: Ürünümün kalitesinden memnun kalmadım\n",
            "Tahmin Edilen Değer: Ürünüm defolu geldi\n",
            "--------------------------------------------------\n",
            "Metin: Spor ayakkabılarımın burun kısmındaki nefes alan kumaş delikleri açılmamış, ayağım terliyor ve kötü kokuyor. Kalite kontrol yapılmamış belli ki.\n",
            "Gerçek Değer: Ürünümün kalitesinden memnun kalmadım\n",
            "Tahmin Edilen Değer: Ürünüm defolu geldi\n",
            "--------------------------------------------------\n",
            "Metin: Dikişler yamuk yapılmış, özellikle burun kısmı göze batıyor.\n",
            "Gerçek Değer: Ürünümün kalitesinden memnun kalmadım\n",
            "Tahmin Edilen Değer: Ürünüm defolu geldi\n",
            "--------------------------------------------------\n",
            "Metin: Terliklerin iç tabanı kaygan bir malzemeden yapılmış. Sürekli ayağım kayıyor içinde.\n",
            "Gerçek Değer: Ürünüm defolu geldi\n",
            "Tahmin Edilen Değer: Ürünümün kalitesinden memnun kalmadım\n",
            "--------------------------------------------------\n",
            "Metin: Aldığımız ayakkabının aynısı gelmedi. Mağazada değişim yaptırdık.\n",
            "Gerçek Değer: Farklı markaya ait farklı ürün gönderildi​\n",
            "Tahmin Edilen Değer: Farklı model ürün gönderildi\n"
          ]
        }
      ]
    },
    {
      "cell_type": "code",
      "source": [
        "import pandas as pd\n",
        "from google.colab import files\n",
        "\n",
        "def hatalari_yazdir_ve_kaydet(X_test, y_test, label_encoder, tokenize_data, model, device, dosya_adi=\"hatalar.xlsx\"):\n",
        "    hatali_ornekler = []\n",
        "\n",
        "    for ix in range(len(X_test)):\n",
        "        text = X_test.iloc[ix]\n",
        "        true_label = label_encoder.classes_[y_test[ix]]\n",
        "\n",
        "        token = tokenize_data(np.array([text]))\n",
        "        b_input_ids, b_attention_mask = token[\"input_ids\"].to(device), token[\"attention_mask\"].to(device)\n",
        "        outputs = model(b_input_ids, attention_mask=b_attention_mask)\n",
        "        logits = outputs.logits\n",
        "        pred = torch.argmax(logits, axis=-1).cpu().numpy()[0]\n",
        "        predicted_label = label_encoder.classes_[pred]\n",
        "\n",
        "        if true_label != predicted_label:\n",
        "            hatali_ornekler.append({\n",
        "                \"Yorum\": text,\n",
        "                \"Gerçek değer\": true_label,\n",
        "                \"Tahmin değeri\": predicted_label\n",
        "            })\n",
        "\n",
        "    if not hatali_ornekler:\n",
        "        print(\"Tahminlerde hata bulunmamaktadır.\")\n",
        "    else:\n",
        "        # Hatalı verileri DataFrame'e çevir\n",
        "        hatali_df = pd.DataFrame(hatali_ornekler)\n",
        "\n",
        "        # DataFrame'i Excel dosyasına kaydet\n",
        "        hatali_df.to_excel(dosya_adi, index=False)\n",
        "        print(f\"Hatalı veriler {dosya_adi} olarak kaydedildi.\")\n",
        "\n",
        "        # Dosyayı Colab üzerinden indirme\n",
        "        files.download(dosya_adi)\n",
        "\n",
        "# Kullanım örneği:\n",
        "hatalari_yazdir_ve_kaydet(X_test, y_test, label_encoder, tokenize_data, model, device, \"hatalar.xlsx\")\n"
      ],
      "metadata": {
        "id": "WBE5awl2hidC",
        "colab": {
          "base_uri": "https://localhost:8080/",
          "height": 34
        },
        "outputId": "27cb0e3e-dfb3-4826-abe8-2959170d95fd"
      },
      "execution_count": null,
      "outputs": [
        {
          "output_type": "stream",
          "name": "stdout",
          "text": [
            "Hatalı veriler hatalar.xlsx olarak kaydedildi.\n"
          ]
        },
        {
          "output_type": "display_data",
          "data": {
            "text/plain": [
              "<IPython.core.display.Javascript object>"
            ],
            "application/javascript": [
              "\n",
              "    async function download(id, filename, size) {\n",
              "      if (!google.colab.kernel.accessAllowed) {\n",
              "        return;\n",
              "      }\n",
              "      const div = document.createElement('div');\n",
              "      const label = document.createElement('label');\n",
              "      label.textContent = `Downloading \"${filename}\": `;\n",
              "      div.appendChild(label);\n",
              "      const progress = document.createElement('progress');\n",
              "      progress.max = size;\n",
              "      div.appendChild(progress);\n",
              "      document.body.appendChild(div);\n",
              "\n",
              "      const buffers = [];\n",
              "      let downloaded = 0;\n",
              "\n",
              "      const channel = await google.colab.kernel.comms.open(id);\n",
              "      // Send a message to notify the kernel that we're ready.\n",
              "      channel.send({})\n",
              "\n",
              "      for await (const message of channel.messages) {\n",
              "        // Send a message to notify the kernel that we're ready.\n",
              "        channel.send({})\n",
              "        if (message.buffers) {\n",
              "          for (const buffer of message.buffers) {\n",
              "            buffers.push(buffer);\n",
              "            downloaded += buffer.byteLength;\n",
              "            progress.value = downloaded;\n",
              "          }\n",
              "        }\n",
              "      }\n",
              "      const blob = new Blob(buffers, {type: 'application/binary'});\n",
              "      const a = document.createElement('a');\n",
              "      a.href = window.URL.createObjectURL(blob);\n",
              "      a.download = filename;\n",
              "      div.appendChild(a);\n",
              "      a.click();\n",
              "      div.remove();\n",
              "    }\n",
              "  "
            ]
          },
          "metadata": {}
        },
        {
          "output_type": "display_data",
          "data": {
            "text/plain": [
              "<IPython.core.display.Javascript object>"
            ],
            "application/javascript": [
              "download(\"download_d5999ea4-e0ac-4ccc-9dec-335517cfcd9d\", \"hatalar.xlsx\", 6403)"
            ]
          },
          "metadata": {}
        }
      ]
    },
    {
      "cell_type": "code",
      "source": [],
      "metadata": {
        "id": "D5czA8qeFU4A"
      },
      "execution_count": null,
      "outputs": []
    }
  ]
}